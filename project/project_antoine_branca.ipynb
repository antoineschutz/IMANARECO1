{
 "cells": [
  {
   "cell_type": "code",
   "execution_count": null,
   "metadata": {},
   "outputs": [],
   "source": [
    "!pip install numpy\n",
    "!pip install matplotlib\n",
    "!pip install scikit-image\n",
    "!pip install pillow\n",
    "!pip install opencv-python\n",
    "# Check is at least python 3.9\n",
    "import sys \n",
    "assert (sys.version_info.major == 3) and (sys.version_info.minor == 9)"
   ]
  },
  {
   "cell_type": "code",
   "execution_count": null,
   "metadata": {},
   "outputs": [],
   "source": [
    "import matplotlib.pyplot as plt\n",
    "import matplotlib\n",
    "import numpy as np\n",
    "from PIL import Image\n",
    "from typing import Callable\n",
    "import os\n",
    "from datetime import datetime\n",
    "from enum import Enum\n",
    "import random\n",
    "from skimage.color import rgb2gray, rgb2hsv\n",
    "from skimage import filters\n",
    "from skimage import segmentation\n",
    "from skimage.morphology import remove_small_holes, remove_small_objects\n",
    "import cv2 as cv"
   ]
  },
  {
   "cell_type": "code",
   "execution_count": null,
   "metadata": {},
   "outputs": [],
   "source": [
    "class ImageType(Enum):\n",
    "    NEUTRAL = \"1. neutral_bg\"\n",
    "    NOISY = \"2. noisy_bg\"\n",
    "    HAND = \"3. hand\"\n",
    "    NEUTRAL_OOD = \"4. neutral_bg_outliers\"\n",
    "    NOISY_OOD = \"5. noisy_bg_outliers\"\n",
    "    HAND_OOD = \"6. hand_outliers\"\n",
    "    \n",
    "def loadImageOfType(type: ImageType, downsample: int = 1, grayscale: bool = False):\n",
    "    # directory = f\"./data/train/{type}\"\n",
    "    directory = os.path.join(\".\", \"data\", \"train\", type.value)\n",
    "    images = os.listdir(directory)\n",
    "    img = np.array(Image.open(os.path.join(directory, random.choice(images)))) \n",
    "    if downsample > 1:\n",
    "        img = img[::downsample, ::downsample, :]\n",
    "    if grayscale:\n",
    "        img = (rgb2gray(img)*255).astype(np.uint8)\n",
    "        \n",
    "    # img = filters.sobel(img)\n",
    "    \n",
    "    return img\n",
    "        \n"
   ]
  },
  {
   "cell_type": "markdown",
   "metadata": {},
   "source": [
    "## Preprocessing"
   ]
  },
  {
   "cell_type": "code",
   "execution_count": null,
   "metadata": {},
   "outputs": [],
   "source": [
    "def filter_circles(circle_array):\n",
    "    # print(circle_array)\n",
    "    # Convert the array to a NumPy array\n",
    "    \n",
    "    # Find unique center coordinates\n",
    "    unique_centers, unique_indices = np.unique(circle_array[:, :2], axis=0, return_index=True)\n",
    "    # print(unique_indices)\n",
    "    \n",
    "    # Get the indices of circles with largest radius for each unique center\n",
    "    largest_circles = []\n",
    "    for center in unique_centers:\n",
    "      largest_circle = np.array((center[0], center[1], 0))\n",
    "      for j in range(len(circle_array)):\n",
    "        circle = circle_array[j]\n",
    "        if (circle[0] == center[0] and circle[1]==center[1] and circle[2] > largest_circle[2]):\n",
    "          largest_circle[2] = circle[2] \n",
    "      largest_circles.append(largest_circle)\n",
    "  \n",
    "    # print(largest_circles)\n",
    "               \n",
    "      \n",
    "\n",
    "    # # Convert the list of indices to a NumPy array\n",
    "    # max_radius_indices = np.array(max_radius_indices)\n",
    "    # print(max_radius_indices)\n",
    "    \n",
    "    return np.array(largest_circles)"
   ]
  },
  {
   "cell_type": "code",
   "execution_count": null,
   "metadata": {},
   "outputs": [],
   "source": [
    "# the input is a cv image so x and y are swapped\n",
    "def extract_circles_images(x, y, r, img):\n",
    "    factor = r + 5\n",
    "    left = x - factor\n",
    "    right = x + factor\n",
    "    up = y - factor\n",
    "    bottom = y + factor\n",
    "    return img[up:bottom, left:right, :]"
   ]
  },
  {
   "cell_type": "code",
   "execution_count": 51,
   "metadata": {},
   "outputs": [],
   "source": [
    "def find_circles(path, debug = False):\n",
    "    img = cv.imread(path)\n",
    "    down = 3\n",
    "    size = (int(img.shape[1]/down), int(img.shape[0]/down))\n",
    "    img = cv.resize(img, size, interpolation=cv.INTER_LINEAR)\n",
    "\n",
    "    output = img.copy()\n",
    "    output[:, :, 0] = img[:, :, 2]\n",
    "    output[:, :, 2] = img[:, :, 0]\n",
    "    img[:, :, 2] = 0\n",
    "\n",
    "    gray = cv.blur(cv.cvtColor(img, cv.COLOR_BGR2GRAY), (8, 8))\n",
    "\n",
    "    # detect circles in the image\n",
    "    circles = cv.HoughCircles(gray, cv.HOUGH_GRADIENT_ALT, dp=1, minDist = 50, minRadius=50, maxRadius=200, param1=5, param2=0.6)\n",
    "    # ensure at least some circles were found\n",
    "    circles_imgs = []\n",
    "    if circles is not None:\n",
    "    # convert the (x, y) coordinates and radius of the circles to integers\n",
    "        circles = np.round(circles[0, :]).astype(\"int\")\n",
    "        circles = filter_circles(circles)\n",
    "        print(f\"detected {len(circles)} circles\")\n",
    "    \n",
    "        for (x, y, r) in circles:\n",
    "            # print(x, y, r)\n",
    "            # draw the circle in the output image, then draw a rectangle\n",
    "                # corresponding to the center of the circle\n",
    "            # cv.circle(output, (x, y), r, (0, 255, 0), 4)\n",
    "            # cv.rectangle(output, (x - 5, y - 5), (x + 5, y + 5), (0, 255, 0), -1)\n",
    "            new_circle = extract_circles_images(x, y, r, output)\n",
    "            circles_imgs.append(new_circle)\n",
    "            if debug:\n",
    "                plt.imshow(new_circle)\n",
    "                plt.show()\n",
    "            # circles_imgs.append(extract_circles_images(x, y, r, output))\n",
    "    \n",
    "        # show the output image\n",
    "    if debug:\n",
    "        plt.imshow(output)\n",
    "        plt.show()\n",
    "    return circles_imgs"
   ]
  },
  {
   "cell_type": "code",
   "execution_count": null,
   "metadata": {},
   "outputs": [],
   "source": [
    "def get_training_data_paths():\n",
    "    training_paths = []\n",
    "    base_dir = \"./data/train/\"\n",
    "    for d in os.listdir(base_dir):\n",
    "        training_dir = f\"{base_dir}/{d}\"\n",
    "        for path in os.listdir(training_dir):\n",
    "            file_path = f\"{training_dir}/{path}\"\n",
    "            training_paths.append(file_path)\n",
    "            # print(file_path)\n",
    "    return training_paths\n",
    "        \n",
    "# get_training_data_paths()"
   ]
  },
  {
   "cell_type": "code",
   "execution_count": 107,
   "metadata": {},
   "outputs": [],
   "source": [
    "def get_label_for_image(path):\n",
    "    filename = path.split(\"/\")[-1].split(\".\")[0]\n",
    "\n",
    "    data = np.genfromtxt('./data/train_labels.csv', delimiter=',', dtype=str)\n",
    "\n",
    "# Assume the first column contains the strings you want to search through\n",
    "    first_column = data[:, 0]\n",
    "\n",
    "    # Find the index of the first entry that matches your string\n",
    "    index = np.where(first_column == filename)[0]\n",
    "    \n",
    "    if index.size > 0:\n",
    "        # print(f\"The first entry matching '{filename}' is at index {index[0]}.\")\n",
    "        #we add 0 in order to account for non coins\n",
    "        label_vector = np.append(data[index[0]][1:], 0)\n",
    "        # print(label_vector)\n",
    "        return label_vector\n",
    "        # You can access the corresponding row using data[index[0]]\n",
    "    else:\n",
    "        # print(f\"No entry matching '{filename}' found.\")\n",
    "        return np.zeros(0)\n"
   ]
  },
  {
   "cell_type": "code",
   "execution_count": 108,
   "metadata": {},
   "outputs": [
    {
     "name": "stdout",
     "output_type": "stream",
     "text": [
      "detected 5 circles\n"
     ]
    }
   ],
   "source": [
    "# d = \"./data/train/1. neutral_bg//\"\n",
    "# d = \"./data/train/2. noisy_bg///\"\n",
    "# d = \"./data/train/3. hand///\"\n",
    "d = \"./data/train/5. noisy_bg_outliers/\"\n",
    "# d = \"./data/train/6. hand_outliers///\"\n",
    "# d = \"./data/test//\"\n",
    "# for f in os.listdir(d):\n",
    "\n",
    "paths = get_training_data_paths()\n",
    "p = paths[0]\n",
    "if get_label_for_image(p).shape[0] == 0:\n",
    "    print(\"wrong filename\")\n",
    "\n",
    "circles = find_circles(paths[0])\n",
    "# for path in get_training_data_paths():\n",
    "# img = cv.imread(f\"{d}/{f}\")[::3, ::3].astype(np.uint8)\n",
    "# img[:, :, 1] = 0\n",
    "\n"
   ]
  }
 ],
 "metadata": {
  "kernelspec": {
   "display_name": "iapr_project",
   "language": "python",
   "name": "python3"
  },
  "language_info": {
   "codemirror_mode": {
    "name": "ipython",
    "version": 3
   },
   "file_extension": ".py",
   "mimetype": "text/x-python",
   "name": "python",
   "nbconvert_exporter": "python",
   "pygments_lexer": "ipython3",
   "version": "3.9.19"
  }
 },
 "nbformat": 4,
 "nbformat_minor": 2
}
