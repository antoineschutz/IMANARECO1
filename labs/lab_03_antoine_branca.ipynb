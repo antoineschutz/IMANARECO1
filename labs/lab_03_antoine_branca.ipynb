{
 "cells": [
  {
   "cell_type": "markdown",
   "id": "022c879b-e00c-468f-854f-aa9c798796b9",
   "metadata": {},
   "source": [
    "# [IAPR][iapr]: Lab 3 ‒  Classification\n",
    "\n",
    "\n",
    "**Group ID:** xx\n",
    "\n",
    "**Author 1 (sciper):** Student Name 1 (xxxxx)  \n",
    "**Author 2 (sciper):** Student Name 2 (xxxxx)   \n",
    "**Author 3 (sciper):** Student Name 3 (xxxxx)   \n",
    "\n",
    "**Release date:** 19.04.2024  \n",
    "**Due date:** 03.05.2024 (11:59 pm)\n",
    "\n",
    "\n",
    "## Important notes\n",
    "\n",
    "The lab assignments are designed to teach practical implementation of the topics presented during class as well as preparation for the final project, which is a practical project that ties together the topics of the course.\n",
    "\n",
    "As such, in the lab assignments/final project, unless otherwise specified, you may, if you choose, use external\n",
    "functions from image processing/ML libraries like OpenCV and sklearn as long as there is sufficient explanation\n",
    "in the lab report. For example, you do not need to implement your own edge detector, etc.\n",
    "\n",
    "**! Before handling back the notebook <font color='red'> rerun </font>the notebook from scratch !**\n",
    "`Kernel` > `Restart & Run All`\n",
    "\n",
    "TAs should be able to rerun your code end to end without having any issues. If not, you might lose part of the points during grading.\n",
    "\n",
    "[iapr]: https://github.com/LTS5/iapr"
   ]
  },
  {
   "cell_type": "code",
   "execution_count": 104,
   "id": "f7e88e80-cbae-4f05-ada3-cc46c0efbc68",
   "metadata": {},
   "outputs": [
    {
     "name": "stdout",
     "output_type": "stream",
     "text": [
      "Requirement already satisfied: numpy in c:\\users\\iab_b\\miniconda3\\lib\\site-packages (1.26.4)\n",
      "Requirement already satisfied: matplotlib in c:\\users\\iab_b\\miniconda3\\lib\\site-packages (3.8.3)\n",
      "Requirement already satisfied: contourpy>=1.0.1 in c:\\users\\iab_b\\miniconda3\\lib\\site-packages (from matplotlib) (1.2.0)\n",
      "Requirement already satisfied: cycler>=0.10 in c:\\users\\iab_b\\miniconda3\\lib\\site-packages (from matplotlib) (0.12.1)\n",
      "Requirement already satisfied: fonttools>=4.22.0 in c:\\users\\iab_b\\miniconda3\\lib\\site-packages (from matplotlib) (4.49.0)\n",
      "Requirement already satisfied: kiwisolver>=1.3.1 in c:\\users\\iab_b\\miniconda3\\lib\\site-packages (from matplotlib) (1.4.5)\n",
      "Requirement already satisfied: numpy<2,>=1.21 in c:\\users\\iab_b\\miniconda3\\lib\\site-packages (from matplotlib) (1.26.4)\n",
      "Requirement already satisfied: packaging>=20.0 in c:\\users\\iab_b\\miniconda3\\lib\\site-packages (from matplotlib) (24.0)\n",
      "Requirement already satisfied: pillow>=8 in c:\\users\\iab_b\\miniconda3\\lib\\site-packages (from matplotlib) (10.2.0)\n",
      "Requirement already satisfied: pyparsing>=2.3.1 in c:\\users\\iab_b\\miniconda3\\lib\\site-packages (from matplotlib) (3.1.2)\n",
      "Requirement already satisfied: python-dateutil>=2.7 in c:\\users\\iab_b\\miniconda3\\lib\\site-packages (from matplotlib) (2.9.0)\n",
      "Requirement already satisfied: importlib-resources>=3.2.0 in c:\\users\\iab_b\\miniconda3\\lib\\site-packages (from matplotlib) (6.1.3)\n",
      "Requirement already satisfied: zipp>=3.1.0 in c:\\users\\iab_b\\miniconda3\\lib\\site-packages (from importlib-resources>=3.2.0->matplotlib) (3.17.0)\n",
      "Requirement already satisfied: six>=1.5 in c:\\users\\iab_b\\appdata\\roaming\\python\\python39\\site-packages (from python-dateutil>=2.7->matplotlib) (1.15.0)\n",
      "Requirement already satisfied: pillow in c:\\users\\iab_b\\miniconda3\\lib\\site-packages (10.2.0)\n",
      "Requirement already satisfied: pandas in c:\\users\\iab_b\\miniconda3\\lib\\site-packages (2.2.2)\n",
      "Requirement already satisfied: numpy>=1.22.4 in c:\\users\\iab_b\\miniconda3\\lib\\site-packages (from pandas) (1.26.4)\n",
      "Requirement already satisfied: python-dateutil>=2.8.2 in c:\\users\\iab_b\\miniconda3\\lib\\site-packages (from pandas) (2.9.0)\n",
      "Requirement already satisfied: pytz>=2020.1 in c:\\users\\iab_b\\miniconda3\\lib\\site-packages (from pandas) (2024.1)\n",
      "Requirement already satisfied: tzdata>=2022.7 in c:\\users\\iab_b\\miniconda3\\lib\\site-packages (from pandas) (2024.1)\n",
      "Requirement already satisfied: six>=1.5 in c:\\users\\iab_b\\appdata\\roaming\\python\\python39\\site-packages (from python-dateutil>=2.8.2->pandas) (1.15.0)\n",
      "Requirement already satisfied: scikit-learn in c:\\users\\iab_b\\miniconda3\\lib\\site-packages (1.4.2)\n",
      "Requirement already satisfied: numpy>=1.19.5 in c:\\users\\iab_b\\miniconda3\\lib\\site-packages (from scikit-learn) (1.26.4)\n",
      "Requirement already satisfied: scipy>=1.6.0 in c:\\users\\iab_b\\miniconda3\\lib\\site-packages (from scikit-learn) (1.12.0)\n",
      "Requirement already satisfied: joblib>=1.2.0 in c:\\users\\iab_b\\miniconda3\\lib\\site-packages (from scikit-learn) (1.4.0)\n",
      "Requirement already satisfied: threadpoolctl>=2.0.0 in c:\\users\\iab_b\\miniconda3\\lib\\site-packages (from scikit-learn) (3.4.0)\n",
      "Requirement already satisfied: tqdm in c:\\users\\iab_b\\miniconda3\\lib\\site-packages (4.66.2)\n",
      "Requirement already satisfied: colorama in c:\\users\\iab_b\\appdata\\roaming\\python\\python39\\site-packages (from tqdm) (0.4.4)\n"
     ]
    }
   ],
   "source": [
    "!pip install numpy\n",
    "!pip install matplotlib\n",
    "!pip install pillow\n",
    "!pip install pandas\n",
    "!pip install scikit-learn\n",
    "!pip install tqdm"
   ]
  },
  {
   "cell_type": "code",
   "execution_count": 105,
   "id": "20b7150f",
   "metadata": {},
   "outputs": [],
   "source": [
    "# Check is at least python 3.9\n",
    "import sys \n",
    "assert (sys.version_info.major == 3) and (sys.version_info.minor == 9)"
   ]
  },
  {
   "cell_type": "markdown",
   "id": "91da76e6-851c-4cc7-852b-fcedac869495",
   "metadata": {},
   "source": [
    "Please take note that PyTorch will be utilized in this lab. PyTorch is a widely recognized library for deep learning. Prior to commencing the lab, we kindly ask you to review this quick tutorial available [here](https://pytorch.org/tutorials/beginner/basics/intro.html)."
   ]
  },
  {
   "cell_type": "markdown",
   "id": "011f4cc6",
   "metadata": {},
   "source": []
  },
  {
   "cell_type": "code",
   "execution_count": 106,
   "id": "f8df3391-feb0-47b0-b9f9-50eea0e802d5",
   "metadata": {},
   "outputs": [
    {
     "name": "stdout",
     "output_type": "stream",
     "text": [
      "Detected Windows\n",
      "Looking in links: https://download.pytorch.org/whl/torch_stable.html\n",
      "Requirement already satisfied: torch==1.8.1+cpu in c:\\users\\iab_b\\miniconda3\\lib\\site-packages (1.8.1+cpu)\n",
      "Requirement already satisfied: torchvision==0.9.1+cpu in c:\\users\\iab_b\\miniconda3\\lib\\site-packages (0.9.1+cpu)\n",
      "Requirement already satisfied: typing-extensions in c:\\users\\iab_b\\miniconda3\\lib\\site-packages (from torch==1.8.1+cpu) (4.10.0)\n",
      "Requirement already satisfied: numpy in c:\\users\\iab_b\\miniconda3\\lib\\site-packages (from torch==1.8.1+cpu) (1.26.4)\n",
      "Requirement already satisfied: pillow>=4.1.1 in c:\\users\\iab_b\\miniconda3\\lib\\site-packages (from torchvision==0.9.1+cpu) (10.2.0)\n",
      "Note: you may need to restart the kernel to use updated packages.\n"
     ]
    }
   ],
   "source": [
    "import platform\n",
    "\n",
    "# Get os name\n",
    "os_name = platform.system().lower()\n",
    "num_workers = 8\n",
    "\n",
    "# OS X\n",
    "if 'darwin' in os_name:\n",
    "    print(\"Detected OS X\")\n",
    "    %pip install torch==1.8.1 torchvision==0.9.1 torchaudio==0.8.1\n",
    "# Linux \n",
    "elif 'linux' in os_name:\n",
    "    print(\"Detected Linux\")\n",
    "    %pip install torch==1.8.1+cpu torchvision==0.9.1+cpu -f https://download.pytorch.org/whl/torch_stable.html\n",
    "# Windows \n",
    "else:\n",
    "    print(\"Detected Windows\")\n",
    "    num_workers = 0  # Hard fix for Windows users\n",
    "    %pip install torch==1.8.1+cpu torchvision==0.9.1+cpu -f https://download.pytorch.org/whl/torch_stable.html"
   ]
  },
  {
   "cell_type": "code",
   "execution_count": 107,
   "id": "e397661f",
   "metadata": {},
   "outputs": [],
   "source": [
    "# Import main packages\n",
    "import os\n",
    "import copy\n",
    "import matplotlib\n",
    "import matplotlib.pyplot as plt\n",
    "import numpy as np\n",
    "import torch.nn as nn\n",
    "import torch.nn.functional as F\n",
    "\n",
    "from PIL import Image\n",
    "import torch\n",
    "from torch.utils.data import Dataset, DataLoader\n",
    "from tqdm import tqdm\n",
    "from typing import Optional, Callable\n",
    "from sklearn.metrics import accuracy_score, f1_score\n",
    "from sklearn.covariance import LedoitWolf"
   ]
  },
  {
   "cell_type": "markdown",
   "id": "b30adfc3",
   "metadata": {},
   "source": [
    "# Real-World Image Classification in Histopathology (30 points)\n",
    "\n",
    "Supervised learning for classifying histopathology images, despite its capabilities, faces significant challenges. A primary obstacle is its reliance on labeled data, which is often scarce and costly to acquire due to the need for expert annotations. This scarcity can impede model performance, particularly when dealing with uncommon diseases or subtle pathological patterns. Moreover, supervised models may struggle with generalization to unseen data or variations in tissue staining protocols. \n",
    "\n",
    "This lab will concentrate on constructing classification models tailored for histopathology using the least labeled data possible. Since the lab does not center on computing descriptors for the images, only image features will be provided. Specifically, we utilized [CTransPath](https://github.com/Xiyue-Wang/TransPath), one of the most robust and precise existing image feature extractors in histopathology, as the descriptor. Your focus will be on classifying these features for downstream tasks crucial to histopathological analysis.\n",
    "\n",
    "Before starting, make sure the data are located as follows:\n",
    "```code\n",
    "├── lab_03_iapr.ipynb\n",
    "└── data\n",
    "    └── data_lab_03\n",
    "        ├── part_01\n",
    "        │    ├── k16_train.pth\n",
    "        │    ├── k16_val.pth\n",
    "        │    ├── k16_test.pth\n",
    "        │    └── k16.svg\n",
    "        └── part_02\n",
    "            ├── acinar.png\n",
    "            ├── solid.png\n",
    "            ├── wsi.png\n",
    "            ├── DHMC_0001.png\n",
    "            └── DHMC_0007.png\n",
    "```"
   ]
  },
  {
   "cell_type": "markdown",
   "id": "3b29c863",
   "metadata": {},
   "source": [
    "## Part 1 - Tumor, Stroma Classification in Colorectal Cancer Histopathology (11 points)\n",
    "\n",
    "Colorectal cancer ranks among the most prevalent cancers affecting both men and women. Accurate diagnosis, supplemented with prognostic and predictive biomarker information, plays a pivotal role in patient monitoring and facilitating personalized treatment approaches. One crucial biomarker is the Tumor/Stroma ratio (TSR) observed in unhealthy colon tissues. This ratio serves as an indicator of cancer invasiveness, with higher ratios correlating to increased invasiveness and, consequently, diminished patient survival probabilities.\n",
    "\n",
    "Traditionally, pathologists assess the TSR by visually inspecting unhealthy tissue samples under a microscope, relying on their expertise to estimate the ratio. However, given the large volume of samples and the occasional lack of precision in estimations, there arises a pressing need for automated recognition of various tissue types within histological images. The development of a multi-class classifier becomes imperative to accurately identify the diverse tissue types present. Typically, these tissue types include TUMOR, STROMA, LYMPHO (lymphocytes), MUCOSA, COMPLEX (complex stroma), DEBRIS, ADIPOSE, and EMPTY (background).\n",
    "\n",
    "<br />\n",
    "<figure>\n",
    "    <img src=\"../data/data_lab_03/part_01/k16.png\" width=\"1100\">\n",
    "    <figcaption>Fig1: Collection of tissue types in colorectal cancer histology.</figcaption>\n",
    "</figure>\n",
    "<br />\n",
    "\n",
    "Until now, state-of-the-art methodologies in histology have predominantly relied on deep-learning-based supervised learning techniques. However, a significant drawback of such an approach lies in the requirement for access to a meticulously annotated training dataset. Annotating histological data poses considerable challenges—it is a time-consuming process that demands the expertise of pathologists. Moreover, annotators are compelled to label every tissue type, even though only two (TUMOR and STROMA) are of primary interest.\n",
    "\n",
    "To address these challenges, we propose an alternative approach. To streamline the annotation process, we task the annotator with labeling only the tissues of interest (TUMOR and STROMA), and discarding the rest. Subsequently, we aim to train a binary classifier capable of automatically recognizing these specific tissues during testing. This novel approach seeks to alleviate the burden of annotation while still enabling accurate identification of the critical tissue types. In this section, we will proceed with implementing and evaluating this proposed methodology."
   ]
  },
  {
   "cell_type": "code",
   "execution_count": 108,
   "id": "7e4a6936",
   "metadata": {},
   "outputs": [
    {
     "name": "stdout",
     "output_type": "stream",
     "text": [
      "Distribution of data in train set\n",
      "#Tumor examples: 439\n",
      "#Stroma examples: 439\n",
      "\n",
      "Distribution of data in validation set\n",
      "#Tumor examples: 93\n",
      "#Stroma examples: 93\n"
     ]
    }
   ],
   "source": [
    "dataroot = os.path.join(\"..\", \"data\", \"data_lab_03\", \"part_01\")\n",
    "\n",
    "# train features and labels\n",
    "train_data = torch.load(os.path.join(dataroot, \"k16_train.pth\"))\n",
    "train_x, train_y = train_data[\"features\"], train_data[\"labels\"]\n",
    "\n",
    "# validation features and labels\n",
    "val_data = torch.load(os.path.join(dataroot, \"k16_val.pth\"))\n",
    "val_x, val_y = val_data[\"features\"], val_data[\"labels\"]\n",
    "\n",
    "print(\"Distribution of data in train set\")\n",
    "print(\"#Tumor examples: {}\".format(len(train_y[train_y == 0])))\n",
    "print(\"#Stroma examples: {}\".format(len(train_y[train_y == 1])))\n",
    "\n",
    "print(\"\\nDistribution of data in validation set\")\n",
    "print(\"#Tumor examples: {}\".format(len(val_y[val_y == 0])))\n",
    "print(\"#Stroma examples: {}\".format(len(val_y[val_y == 1])))"
   ]
  },
  {
   "cell_type": "markdown",
   "id": "002cf19f",
   "metadata": {},
   "source": [
    "### 1.1 Binary classifier with Mahalanobis distance (2.5 pts)\n",
    "\n",
    "Your task is to construct this binary classifier utilizing the Mahalanobis distance as taught in class. Begin by executing the cell below to load the training and validation features for TUMOR and STROMA. These features have been computed using a self-supervised model tailored for histopathology, known as CTransPath. Note that label `0` corresponds to TUMOR and label `1` to STROMA:"
   ]
  },
  {
   "cell_type": "markdown",
   "id": "eec65d58",
   "metadata": {},
   "source": [
    "* **Q1 (1 pt)**: Complete the `fit` method in `MahalanobisClassifier`. This method calculates the parameters necessary for the Mahalanobis Classifier when fitted to the training data.\n",
    "* **Q2 (1 pt)**: Complete the `predict` method in `MahalanobisClassifier`. This method is responsible for predicting the class for each test feature as well as the distance to class means using the Mahalanobis distance method.\n",
    "\n",
    "**Note**: It is forbidden to use any prebuilt Mahalanobis distance function. You may only use `LedoitWolf` in `sklearn.covariance` for computing a stable covariance matrix."
   ]
  },
  {
   "cell_type": "code",
   "execution_count": 109,
   "id": "e6976bb7-f856-4980-9268-fc66be80dcf9",
   "metadata": {},
   "outputs": [],
   "source": [
    "from sklearn.covariance import LedoitWolf\n",
    "\n",
    "class MahalanobisClassifier:\n",
    "    \"\"\"Mahalanobis based classifer\"\"\"\n",
    "\n",
    "    def __init__(self):\n",
    "        \"\"\"\n",
    "        Attributes:\n",
    "            means (torch.tensor): (n_classes, d) Mean of the features for each class\n",
    "            inv_covs (torch.tensor): (n_classes, d, d) Inverse of covariance matrix across d features for each class   \n",
    "        \"\"\"\n",
    "        super().__init__()\n",
    "        self.means = None\n",
    "        self.inv_covs = None\n",
    "        \n",
    "    def fit(self, train_x : torch.Tensor, train_y : torch.Tensor):\n",
    "        \"\"\"Computes parameters for Mahalanobis Classifier (self.mean and self.cov), fitted on the training data.\n",
    "\n",
    "        Args:\n",
    "            train_x (torch.Tensor): (N, d) The tensor of training features\n",
    "            train_y (torch.Tensor): (N,) The tensor of training labels\n",
    "        \"\"\"\n",
    "\n",
    "        # Define number of classes\n",
    "        n_classes = len(np.unique(np.unique(train_y)))\n",
    "        n, d = train_x.shape\n",
    "        #there is n images and each images has d features\n",
    "        print(n, d)\n",
    "        \n",
    "        # Set default values\n",
    "        means = torch.zeros((n_classes, d), dtype=train_x.dtype)\n",
    "        inv_covs = torch.ones((n_classes, d, d), dtype=train_x.dtype)\n",
    "        \n",
    "        # ------------------\n",
    "        # Your code here ... \n",
    "        # ------------------\n",
    "        for i in range(n_classes):\n",
    "            class_i = np.argwhere(train_y == i)\n",
    "            train_i = train_x[class_i][0]\n",
    "            mean_i = torch.mean(train_i, 0)\n",
    "            means[i] = mean_i\n",
    "            cov = LedoitWolf().fit(train_i)\n",
    "            inv_covs[i] = torch.inverse(torch.from_numpy(cov.covariance_))\n",
    "            \n",
    "        \n",
    "            \n",
    "        self.means = means\n",
    "        self.inv_covs = inv_covs\n",
    "\n",
    "\n",
    "\n",
    "    def predict(self, test_x : torch.Tensor) -> torch.Tensor:\n",
    "        \"\"\"Predicts the class of every test feature, using the Mahalanobis Distance\n",
    "\n",
    "        Args:\n",
    "            test_x (torch.Tensor): (N, d) The tensor of test features\n",
    "\n",
    "        Returns:\n",
    "            preds (torch.Tensor): (N,) The predictions tensor (id of the predicted class {0, 1, ..., n_classes-1})\n",
    "            dists (torch.Tensor): (N, n_classes) Mahalanobis distance from sample to class means\n",
    "        \"\"\"\n",
    "\n",
    "        # Define default output value\n",
    "        N, d = test_x.shape\n",
    "        dists = torch.zeros((N, self.means.shape[0]), dtype=test_x.dtype)\n",
    "        preds = torch.zeros(N, dtype=test_x.dtype)\n",
    "        \n",
    "        # ------------------\n",
    "        # Your code here ... \n",
    "        # ------------------\n",
    "        # for i in range(N):\n",
    "        # dist = ((test_x - self.means[0]).T)@self.inv_covs[0]@(test_x - self.means[0])\n",
    "        for i in range(N):\n",
    "            for n in range(self.means.shape[0]):\n",
    "                dists[i, n] = torch.sqrt(((test_x[i] - self.means[n]).T)@self.inv_covs[n]@(test_x[i] - self.means[n]))\n",
    "            \n",
    "        preds = torch.argmin(dists, axis = 1)\n",
    "        \n",
    "        \n",
    "        \n",
    "        \n",
    "\n",
    "        return preds, dists"
   ]
  },
  {
   "cell_type": "code",
   "execution_count": 110,
   "id": "eeb74ba5-f0cf-4d35-ab3a-ea5427292363",
   "metadata": {},
   "outputs": [],
   "source": [
    "def plot_mahalanobis_classifier(\n",
    "    fa: torch.Tensor, fb: torch.Tensor, y: torch.Tensor, cls_name: list[str], colors: list[str], title: str):\n",
    "    \"\"\"Display Mahalanobis distances for the first two features over samples\n",
    "\n",
    "    Args:\n",
    "        fa (torch.Tensor): (N,) First feature component\n",
    "        fb (torch.Tensor): (N,) Second feature component\n",
    "        y (torch.Tensor): (N,) Class ground truth\n",
    "        cls_name (list of str): (n_classes,) Name of classes as list\n",
    "        title (str): Title of plot\n",
    "    \"\"\"\n",
    "    \n",
    "    # Create plot\n",
    "    _, ax = plt.subplots(1, 1, figsize=(10, 5))\n",
    "\n",
    "    # Plot results\n",
    "    for i, c in enumerate(np.unique(y)):\n",
    "        ax.scatter(fa[y == c], fb[y == c], marker=\"o\", c=colors[i], label=\"{}\".format(cls_name[i]))\n",
    "    \n",
    "    # Labels\n",
    "    ax.set_xlabel(\"Distance to Tumor\")\n",
    "    ax.set_ylabel(\"Distance to Stroma\")\n",
    "    plt.title(title)\n",
    "    plt.legend()\n"
   ]
  },
  {
   "cell_type": "markdown",
   "id": "a0d5f505",
   "metadata": {},
   "source": [
    "* **Q3 (0.5 pt)**: After fitting your classifier on the training data, compute the accuracy of the validation data. Are you satisfied with the results? Your results should be above (97%).\n",
    "    * **Answer**: ..."
   ]
  },
  {
   "cell_type": "code",
   "execution_count": 111,
   "id": "96687c9b",
   "metadata": {},
   "outputs": [
    {
     "name": "stdout",
     "output_type": "stream",
     "text": [
      "878 768\n"
     ]
    },
    {
     "data": {
      "image/png": "[encoded data removed]",
      "text/plain": [
       "<Figure size 720x360 with 1 Axes>"
      ]
     },
     "metadata": {
      "needs_background": "light"
     },
     "output_type": "display_data"
    }
   ],
   "source": [
    "# Create classifier\n",
    "classifier = MahalanobisClassifier()\n",
    "\n",
    "# Fit to train data\n",
    "classifier.fit(train_x, train_y)\n",
    "\n",
    "# Apply on validation data and compute accuracy\n",
    "val_y_hat, val_y_dist = classifier.predict(val_x)\n",
    "accuracy = accuracy_score(val_y, val_y_hat)\n",
    "\n",
    "# Plot results (distance to means and prediction of classes)\n",
    "plot_mahalanobis_classifier(\n",
    "    fa=val_y_dist[:,0] , fb=val_y_dist[:,1], y=val_y,\n",
    "    cls_name=[\"Tumor\", \"Stroma\"], colors=[\"r\", \"b\"],\n",
    "    title=\"Mahalanobis distances for samples\\nValidation set accuracy: {:.2f}%\".format(100*accuracy),\n",
    ")"
   ]
  },
  {
   "cell_type": "markdown",
   "id": "ae96c344",
   "metadata": {},
   "source": [
    "### 1.2 Out-of-Distribution detection with Mahalanobis distance (3.5 pts)\n",
    "\n",
    "Your classifier appears to perform well. However, during testing, it's possible for other tissue types to be present, which cannot be manually filtered out. Moreover, these tissue types may not be recognized by the model as they fall outside the labeled training distribution (It is the consequence of the laziness of the annotators ;)). Therefore, it's crucial to filter out these out-of-distribution (OoD) samples.\n",
    "\n",
    "One approach to OoD detection involves computing an OoD-ness score for each test example. This score should be low for in-distribution (ID) examples and high for OoDs. Subsequently, a threshold is defined, for which any example with a greater OoD-ness is discarded, while those below it are forwarded to the model for prediction. An example of an OoD-ness score is the minimum Mahalanobis distance to means."
   ]
  },
  {
   "cell_type": "markdown",
   "id": "f0140d67",
   "metadata": {},
   "source": [
    "* **Q1 (0.5 pt)**: Why do you think the minimum Mahalanobis distance is a good OoD-ness score?\n",
    "    * **Answer**: ..."
   ]
  },
  {
   "cell_type": "markdown",
   "id": "5f87ad75-97a9-4937-8f92-beaf0f8edda1",
   "metadata": {},
   "source": [
    "Start by running the cell below to load the test set. It comprises TUMOR and STROMA samples, along with other tissue types. Note that OoD tissues types are labeled to `-1`."
   ]
  },
  {
   "cell_type": "code",
   "execution_count": 112,
   "id": "7c3a7a7f",
   "metadata": {},
   "outputs": [
    {
     "name": "stdout",
     "output_type": "stream",
     "text": [
      "Distribution of data in test set\n",
      "#Tumor examples: 93\n",
      "#Stroma examples: 93\n",
      "#OoD examples: 558\n"
     ]
    }
   ],
   "source": [
    "test_data = torch.load(os.path.join(dataroot, \"k16_test.pth\"))\n",
    "test_x, test_y = test_data[\"features\"], test_data[\"labels\"]\n",
    "\n",
    "# Display distribution of test samples\n",
    "print(\"Distribution of data in test set\")\n",
    "print(\"#Tumor examples: {}\".format(len(test_y[test_y == 0])))\n",
    "print(\"#Stroma examples: {}\".format(len(test_y[test_y == 1])))\n",
    "print(\"#OoD examples: {}\".format(len(test_y[test_y == -1])))"
   ]
  },
  {
   "cell_type": "markdown",
   "id": "dffad9ca",
   "metadata": {},
   "source": [
    "* **Q2 (0.5 pt)**: We create a new classifier `MahalanobisOODClassifier` that inherits from the previous one. Reimplement the function `predict` such that it returns as well the OoD scores. We define the `ood_scores` as the minimum Mahalanobis distance from the classifier. Your accuracy results should be the same as before."
   ]
  },
  {
   "cell_type": "code",
   "execution_count": 113,
   "id": "50f20bd6-ca9e-4656-bd97-49fc1a1506a0",
   "metadata": {},
   "outputs": [],
   "source": [
    "class MahalanobisOODClassifier(MahalanobisClassifier):\n",
    "    \"\"\"Predicts the class of every test feature, using the Mahalanobis Distance\n",
    "\n",
    "    Args:\n",
    "        test_x (torch.Tensor): (N x d) The tensor of test features\n",
    "\n",
    "    Returns:\n",
    "        preds (torch.Tensor): (N,) The predictions tensor (id of the predicted class {0, 1, ..., n_classes-1})\n",
    "        dists (torch.Tensor): (N, n_classes) Mahalanobis distance from sample to class means\n",
    "        ood_scores (torch.Tensor): (N,) Score of OoDness as the minimal distance from the sample to classes\n",
    "    \"\"\"\n",
    "\n",
    "    def predict(self, test_x : torch.Tensor) -> torch.Tensor:\n",
    "        \n",
    "        # Get super prediction (from MahalanobisClassifier)\n",
    "        preds, dists = super().predict(test_x=test_x)\n",
    "        N = preds.shape[0]\n",
    "\n",
    "        # Assign dummy values to scores\n",
    "        # ood_scores = np.zeros(N)\n",
    "        \n",
    "        # ------------------\n",
    "        # Your code here ... \n",
    "        # ------------------\n",
    "        ood_scores = torch.min(dists, dim = 1)[0]\n",
    "        \n",
    "        return preds, dists, ood_scores\n"
   ]
  },
  {
   "cell_type": "code",
   "execution_count": 114,
   "id": "93e77963-327a-4e3c-addb-df313f4550fb",
   "metadata": {},
   "outputs": [],
   "source": [
    "def plot_mahalanobis_ood_classifier(\n",
    "    fa: torch.Tensor, fb: torch.Tensor, ood_score: torch.Tensor, cls_name: list[str], title: str):\n",
    "    \"\"\"Display Mahalanobis distances for the first two features over samples as well as OoD scores.\n",
    "\n",
    "    Args:\n",
    "        fa (torch.Tensor): (N,) First feature component\n",
    "        fb (torch.Tensor): (N,) Second feature component\n",
    "        ood_score (torch.Tensor): (N,) OoDness of samples\n",
    "        cls_name (list of str): (n_classes,) Name of classes as list\n",
    "        title (str): Title of plot\n",
    "    \"\"\"\n",
    "    \n",
    "    # Create plot\n",
    "    fig, ax = plt.subplots(1, 1, figsize=(10, 5))\n",
    "\n",
    "    # Plot results\n",
    "    pcm = ax.scatter(fa, fb, c=ood_score, marker=\"o\", label=\"OoD score\")\n",
    "    \n",
    "    # Labels\n",
    "    ax.set_xlabel(\"Distance to Tumor\")\n",
    "    ax.set_ylabel(\"Distance to Stroma\")\n",
    "    fig.colorbar(pcm, ax=ax, label=\"OoD score\")\n",
    "    plt.title(title)\n",
    "    plt.legend()\n"
   ]
  },
  {
   "cell_type": "code",
   "execution_count": 115,
   "id": "fb72c271-a0d2-4e25-bcb3-31d8019a18f8",
   "metadata": {},
   "outputs": [
    {
     "name": "stdout",
     "output_type": "stream",
     "text": [
      "878 768\n"
     ]
    },
    {
     "data": {
      "image/png": "[encoded data removed]",
      "text/plain": [
       "<Figure size 720x360 with 2 Axes>"
      ]
     },
     "metadata": {
      "needs_background": "light"
     },
     "output_type": "display_data"
    }
   ],
   "source": [
    "# Create classifier\n",
    "classifier_ood = MahalanobisOODClassifier()\n",
    "\n",
    "# Fit to train data\n",
    "classifier_ood.fit(train_x, train_y)\n",
    "\n",
    "# Apply on validation data and compute accuracy\n",
    "val_y_hat, val_y_dist, val_y_ood_scores = classifier_ood.predict(val_x)\n",
    "accuracy = accuracy_score(val_y, val_y_hat)\n",
    "\n",
    "# Plot results (distance to means and prediction of classes)\n",
    "plot_mahalanobis_ood_classifier(\n",
    "    fa=val_y_dist[:,0] , fb=val_y_dist[:,1], ood_score=val_y_ood_scores,\n",
    "    cls_name=[\"Tumor\", \"Stroma\"],\n",
    "    title=\"OoD scores for samples\\nValidation set accuracy: {:.2f}%\".format(100*accuracy),\n",
    ")"
   ]
  },
  {
   "cell_type": "markdown",
   "id": "90d56315-272b-4c5e-ba61-8a2e0f6c25c4",
   "metadata": {},
   "source": [
    "* **Q3 (0.5 pt)**: Based on the validation set OoD scores, determine a threshold for the minimum Mahalanobis distance such that 95% of the validation samples are identified as ID."
   ]
  },
  {
   "cell_type": "code",
   "execution_count": 116,
   "id": "2aeb80fc-90f5-49d5-ae8d-b579a237ae28",
   "metadata": {},
   "outputs": [],
   "source": [
    "def get_ood_threshold(ood_scores, quantile=0.95):\n",
    "    \"\"\" Get OoD threshold based on measured scores and quantile\n",
    "\n",
    "    Args:\n",
    "        ood_scores (torch.Tensor): (N, ) N measured OoDness scores\n",
    "        quantile (float): Percentage of samples that are considered as in distribution\n",
    "    \"\"\"\n",
    "\n",
    "    # ------------------\n",
    "    # Your code here ... \n",
    "    # ------------------\n",
    "    nb_samples = len(ood_scores)\n",
    "    threshold = torch.sort(ood_scores)[0][int(nb_samples * quantile)]\n",
    "   \n",
    "    \n",
    "\n",
    "    return threshold"
   ]
  },
  {
   "cell_type": "code",
   "execution_count": 117,
   "id": "9bb771f8",
   "metadata": {},
   "outputs": [
    {
     "name": "stdout",
     "output_type": "stream",
     "text": [
      "Validation threshold 95% = 38.91\n"
     ]
    }
   ],
   "source": [
    "# Get threshold\n",
    "q = 0.95\n",
    "threshold_val = get_ood_threshold(ood_scores=val_y_ood_scores, quantile=q)\n",
    "\n",
    "print(\"Validation threshold {:.0f}% = {:.2f}\".format(100*q, threshold_val))"
   ]
  },
  {
   "cell_type": "code",
   "execution_count": 118,
   "id": "7d3bb2b8-3e34-4805-b982-bdb68ae558d2",
   "metadata": {},
   "outputs": [
    {
     "data": {
      "image/png": "[encoded data removed]",
      "text/plain": [
       "<Figure size 864x288 with 1 Axes>"
      ]
     },
     "metadata": {
      "needs_background": "light"
     },
     "output_type": "display_data"
    }
   ],
   "source": [
    "def plot_ood_scores(ood_scores: torch.Tensor, threshold: float):\n",
    "    \"\"\" Plot OoD scores and the threshold to quantile.\n",
    "\n",
    "    Args:\n",
    "        ood_scores (torch.Tensor): (N, ) N measured OoDness scores\n",
    "        threshold (float): OoD threshold\n",
    "    \"\"\"\n",
    "    \n",
    "    plt.figure(figsize=(12, 4))\n",
    "    plt.hist(ood_scores[ood_scores <= threshold], bins=20, label=\"ID\")\n",
    "    plt.hist(ood_scores[ood_scores > threshold], bins=20, label=\"OoD\")\n",
    "    plt.vlines(threshold, ymin=0, ymax=10, color='k', ls='--', label=\"Threshold\")\n",
    "    plt.xlabel(\"OoD scores\")\n",
    "    plt.ylabel(\"Score density\")\n",
    "    plt.title(\"OoD scores and threshold\")\n",
    "    plt.legend()\n",
    "\n",
    "# Plot ood scores and threshold\n",
    "plot_ood_scores(ood_scores=val_y_ood_scores, threshold=threshold_val)"
   ]
  },
  {
   "cell_type": "markdown",
   "id": "102b92ae",
   "metadata": {},
   "source": [
    "* **Q4 (2 pts)**: Complete the function `compute_metrics` that computes the recall for TUMOR, STROMA, and OoD examples as well as the average recall over the 3 classes. To do so, you need to consider OoDs as a third class by assigning the prediction `-1` to filtered-out examples based on your threshold. Based on your results, conclude on the feasibility of the proposed pipeline. Propose a solution that would require the least annotation possible but that could significantly increase your OoD recall. Both Tumor and Stroma recall should be above 90%. Recall for OOD should be above 80%.\n",
    "    * **Answer**: ..."
   ]
  },
  {
   "cell_type": "code",
   "execution_count": 151,
   "id": "69fdfb02-a3f5-4f72-86b4-4399db6cf8c2",
   "metadata": {},
   "outputs": [],
   "source": [
    "def compute_metrics(y, y_hat, ood_scores, threshold):\n",
    "    \"\"\" Compute recall for tumor, stroma, and OoD as well as the average recall.\n",
    "\n",
    "    Args:\n",
    "        y (torch.Tensor): (N) Class ground truth {-1, 0, 1, ..., n_classes}\n",
    "        y_hat (torch.Tensor): (N,) Class predictions {0, 1, ..., n_classes}\n",
    "        ood_scores (torch.Tensor): (N, ) N measured OoDness scores\n",
    "        threshold (float): OoD threshold\n",
    "\n",
    "    Returns:\n",
    "        recall_tumor (float): Tumor recall  \n",
    "        recall_stroma (float): Stroma recall \n",
    "        recall_ood (float): OOD recall \n",
    "        avg_recal (float): Averaged recall\n",
    "        y_hat_ood (torch.Tensor): (N,) Class predictions with oods {-1, 0, 1, ..., n_classes}\n",
    "    \"\"\"\n",
    "    # Define variable with dummy values \n",
    "    recall_tumor = 0\n",
    "    recall_stroma = 0\n",
    "    recall_ood = 0\n",
    "    avg_recall = 0\n",
    "    y_hat_ood = np.array(y_hat)\n",
    "    \n",
    "    \n",
    "    # ------------------\n",
    "    # Your code here ... \n",
    "    # ------------------\n",
    "    \n",
    "    oods = ood_scores.numpy() > threshold.numpy()\n",
    "    y_hat_ood[oods] = -1\n",
    "    \n",
    "    \n",
    "    ood_indices = set(np.argwhere(y == -1)[0].numpy())\n",
    "    tumor_indices = set(np.argwhere(y == 0)[0].numpy())\n",
    "    stroma_indices = set(np.argwhere(y == 1)[0].numpy())\n",
    "    \n",
    "    ood_pred_indices = set(np.argwhere(y_hat_ood == -1).flatten())\n",
    "    tumor_pred_indices = set(np.argwhere(y_hat_ood == 0).flatten())\n",
    "    stroma_pred_indices = set(np.argwhere(y_hat_ood == 1).flatten())\n",
    "    \n",
    "\n",
    "    positive_tumor = tumor_pred_indices.intersection(tumor_indices)    \n",
    "    negative_tumor = tumor_indices - positive_tumor\n",
    "    recall_tumor = len(positive_tumor)/(len(positive_tumor) + len(negative_tumor))\n",
    "    \n",
    "    positive_stroma = stroma_pred_indices.intersection(stroma_indices)    \n",
    "    negative_stroma = stroma_indices - positive_stroma\n",
    "    recall_stroma = len(positive_stroma)/(len(positive_stroma) + len(negative_stroma))\n",
    "    \n",
    "    positive_ood = ood_pred_indices.intersection(ood_indices)    \n",
    "    negative_ood = ood_indices - positive_ood\n",
    "    recall_ood = len(positive_ood)/(len(positive_ood) + len(negative_ood))\n",
    "    \n",
    "    avg_recall = (recall_tumor + recall_stroma + recall_ood)/3\n",
    "    \n",
    "    \n",
    "    \n",
    "\n",
    "    return y_hat_ood, recall_tumor, recall_stroma, recall_ood, avg_recall\n"
   ]
  },
  {
   "cell_type": "code",
   "execution_count": 152,
   "id": "bfb4b7ac",
   "metadata": {},
   "outputs": [
    {
     "name": "stdout",
     "output_type": "stream",
     "text": [
      "Tumor recall: 98.92%\n",
      "Stroma recall: 92.47%\n",
      "OoD recall: 86.02%\n",
      "Average recall: 92.47%\n"
     ]
    }
   ],
   "source": [
    "# Predictions on test set\n",
    "test_y_hat, test_y_dist, test_y_ood_scores = classifier_ood.predict(test_x)\n",
    "\n",
    "# Compute metrics\n",
    "test_y_hat_ood, recall_tumor, recall_stroma, recall_ood, avg_recall = compute_metrics(\n",
    "    y=test_y, y_hat=test_y_hat, ood_scores=test_y_ood_scores, threshold=threshold_val)\n",
    "\n",
    "# Display metrics\n",
    "print(f\"Tumor recall: {recall_tumor*100:.2f}%\")\n",
    "print(f\"Stroma recall: {recall_stroma*100:.2f}%\")\n",
    "print(f\"OoD recall: {recall_ood*100:.2f}%\")\n",
    "print(f\"Average recall: {avg_recall*100:.2f}%\")"
   ]
  },
  {
   "cell_type": "code",
   "execution_count": 75,
   "id": "84be4988-7bed-4869-9bfc-ffc945061335",
   "metadata": {},
   "outputs": [
    {
     "data": {
      "image/png": "[encoded data removed]",
      "text/plain": [
       "<Figure size 720x360 with 1 Axes>"
      ]
     },
     "metadata": {
      "needs_background": "light"
     },
     "output_type": "display_data"
    }
   ],
   "source": [
    "# Display the classification with OoD and features\n",
    "plot_mahalanobis_classifier(\n",
    "    fa=test_y_dist[:,0] , fb=test_y_dist[:,1], y=test_y,\n",
    "    cls_name=[\"OoD\", \"Tumor\", \"Stroma\"], colors=[\"k\", \"r\", \"b\"],\n",
    "    title=\"Mahalanobis distances for samples (Ground Truth)\"\n",
    ")"
   ]
  },
  {
   "cell_type": "code",
   "execution_count": 153,
   "id": "82232f37-69e9-4de1-bbd2-8e2801bf3a36",
   "metadata": {},
   "outputs": [
    {
     "data": {
      "image/png": "[encoded data removed]",
      "text/plain": [
       "<Figure size 720x360 with 1 Axes>"
      ]
     },
     "metadata": {
      "needs_background": "light"
     },
     "output_type": "display_data"
    }
   ],
   "source": [
    "# Display the classification with OoD and features\n",
    "plot_mahalanobis_classifier(\n",
    "    fa=test_y_dist[:,0] , fb=test_y_dist[:,1], y=test_y_hat_ood,\n",
    "    cls_name=[\"OoD\", \"Tumor\", \"Stroma\"], colors=[\"k\", \"r\", \"b\"],\n",
    "    title=\"Mahalanobis distances for samples (Prediciton)\"\n",
    ")"
   ]
  },
  {
   "cell_type": "markdown",
   "id": "a2442b2d",
   "metadata": {},
   "source": [
    "### 1.3 Out-of-Distribution detection with k-NN (5 pts)\n",
    "\n",
    "Let's explore another technique based on k-Nearest Neighbors (k-NN). The features utilized have been extracted from a self-supervised model, known for their efficacy as k-NN classifiers. This motivates us to implement a k-NN classifier for identifying TUMOR and STROMA. Additionally, the k-NN distance serves as a suitable OoD-ness score, aligning well with our task requirements.\n",
    "\n",
    "* **Q1 (2 pts)**: Complete the `fit` and `predict` functions in `kNNClassifier`. Also, assign your own handcrafted OoD score in `predict`. We recommend to use `top_k` function from torch ([doc](https://pytorch.org/docs/stable/generated/torch.topk.html)). When using k>1, use majority voting to select the winning class.\n",
    "\n",
    "**Note**: It is forbidden to use any prebuilt k-NN classifier function."
   ]
  },
  {
   "cell_type": "code",
   "execution_count": 197,
   "id": "75d39391-e446-47ca-836c-c49d8f0ed9e9",
   "metadata": {},
   "outputs": [],
   "source": [
    "class kNNClassifier:\n",
    "    \"\"\"k-NN based classifier\"\"\"\n",
    "\n",
    "    def __init__(self, k : int):\n",
    "        \"\"\"\n",
    "        Args:\n",
    "            k (int): The number of neighbors to consider for the classification\n",
    "            features (torch.Tensor): (N, d) feature of the N train samples\n",
    "            labels (torch.Tensor): (N,) labels for train samples\n",
    "        \"\"\"\n",
    "        self.k = k\n",
    "        self.features = None\n",
    "        self.labels = None\n",
    "\n",
    "    def fit(self, train_x : torch.Tensor, train_y : torch.Tensor):\n",
    "        \"\"\"Store training data parameters (features and labels) for k-NN classifier.\n",
    "\n",
    "        Args:\n",
    "            train_x (torch.Tensor): (N, d) The tensor of training features\n",
    "            train_y (torch.Tensor): (N,) The tensor of training labels\n",
    "        \"\"\"\n",
    "        \n",
    "        # Get size and default values\n",
    "        N, d = train_x.shape\n",
    "        \n",
    "        # ------------------\n",
    "        # Your code here ... \n",
    "        # ------------------\n",
    "        features = train_x\n",
    "        labels = train_y\n",
    "\n",
    "        self.features = features\n",
    "        self.labels = labels\n",
    "\n",
    "    def predict(self, test_x : torch.Tensor) -> torch.Tensor:\n",
    "        \"\"\"Predicts the class of every test feature, using the k-NN\n",
    "\n",
    "        Args:\n",
    "            test_x (torch.Tensor): (N x d) The tensor of test features\n",
    "\n",
    "        Returns:\n",
    "            preds (torch.Tensor): (N,) The tensor of class predictions {0, 1, ..., n_classes}\n",
    "            ood_scores (torch.Tensor): (N,) The OoD score predictions\n",
    "        \"\"\"\n",
    "\n",
    "                \n",
    "        # Get size and default values\n",
    "        N, d = test_x.shape\n",
    "        preds = torch.zeros(N)\n",
    "        ood_scores = torch.zeros(N)\n",
    "\n",
    "        # ------------------\n",
    "        # Your code here ... \n",
    "        # ------------------\n",
    "        for i in range(N):\n",
    "            dist = torch.linalg.norm(self.features - test_x[i], axis = 1)\n",
    "            smallest_dist, indices = torch.topk(dist, k = self.k, largest=False)\n",
    "            neighboors = self.labels[indices][0:self.k]\n",
    "            unique_values, counts = np.unique(neighboors, return_counts=True) \n",
    "            preds[i] = unique_values[np.argmax(counts)] \n",
    "            ood_scores[i] = torch.mean(smallest_dist[0:self.k])\n",
    "            \n",
    "        \n",
    "\n",
    "        \n",
    "        return preds, ood_scores"
   ]
  },
  {
   "cell_type": "markdown",
   "id": "40473834",
   "metadata": {},
   "source": [
    "* **Q2 (1 pt)**: Find the best `k` among `[1, 3, 5, 9, 15, 25]` based on the validation set. What is the best `k` and accuracy?  Your results should be above (97%).\n",
    "    * **Answer**: ..."
   ]
  },
  {
   "cell_type": "code",
   "execution_count": 203,
   "id": "1ae5c1f3-95b6-4e11-adee-fe8b95faaaa7",
   "metadata": {},
   "outputs": [
    {
     "name": "stdout",
     "output_type": "stream",
     "text": [
      "\n",
      "Best @ k: 3 -> 99.46% accuracy\n"
     ]
    }
   ],
   "source": [
    "# Best k for knn fitting (to find among suggested ks)\n",
    "ks = [1, 3, 5, 9, 15, 25]\n",
    "best_k = 0\n",
    "best_accuracy = 0.\n",
    "\n",
    "# Iterate over ks\n",
    "for k in ks:\n",
    "    \n",
    "    # ------------------\n",
    "    # Your code here ... \n",
    "    # ------------------\n",
    "    knn_classifier = kNNClassifier(k)\n",
    "\n",
    "    knn_classifier.fit(train_x, train_y)\n",
    "\n",
    "    preds, ood_scores = knn_classifier.predict(val_x)\n",
    "\n",
    "    accuracy = 1 - torch.count_nonzero(preds-val_y)/len(val_y)\n",
    "    if accuracy > best_accuracy: \n",
    "        best_k = k\n",
    "        best_accuracy = accuracy\n",
    "    \n",
    "    \n",
    "\n",
    "# Print best K\n",
    "print(f\"\\nBest @ k: {best_k} -> {best_accuracy*100:.2f}% accuracy\")"
   ]
  },
  {
   "cell_type": "markdown",
   "id": "55e07e16-0983-4139-8e57-6fd2e8c33b33",
   "metadata": {},
   "source": [
    "* **Q3 (1 pt)**: Compute the threshold such that 95% of validation samples are detected as ID. "
   ]
  },
  {
   "cell_type": "code",
   "execution_count": 212,
   "id": "dd3b5ca6-48c4-4d9b-a801-9174ce7e5f40",
   "metadata": {},
   "outputs": [
    {
     "name": "stdout",
     "output_type": "stream",
     "text": [
      "Validation threshold 95% = 2.29\n"
     ]
    }
   ],
   "source": [
    "# best threshold\n",
    "threshold_val = 0\n",
    "# Preidcted val ood scores\n",
    "\n",
    "# ------------------\n",
    "# Your code here ... \n",
    "# ------------------\n",
    "knn_classifier = kNNClassifier(best_k)\n",
    "\n",
    "knn_classifier.fit(train_x, train_y)\n",
    "\n",
    "_, val_y_ood_scores = knn_classifier.predict(val_x)\n",
    "nb_samples = len(ood_scores)\n",
    "threshold_val = torch.sort(val_y_ood_scores)[0][int(nb_samples * 0.95)]\n",
    "\n",
    "\n",
    "\n",
    "print(\"Validation threshold {:.0f}% = {:.2f}\".format(100*q, threshold_val))"
   ]
  },
  {
   "cell_type": "code",
   "execution_count": 213,
   "id": "53c61cc2-dee3-4f71-8416-96a2decaeed8",
   "metadata": {},
   "outputs": [
    {
     "data": {
      "image/png": "[encoded data removed]",
      "text/plain": [
       "<Figure size 864x288 with 1 Axes>"
      ]
     },
     "metadata": {
      "needs_background": "light"
     },
     "output_type": "display_data"
    }
   ],
   "source": [
    "# Plot ood scores and threshold\n",
    "plot_ood_scores(ood_scores=val_y_ood_scores, threshold=threshold_val)"
   ]
  },
  {
   "cell_type": "markdown",
   "id": "bf8f9d26-6d43-4bf9-b69f-64e679f3d527",
   "metadata": {},
   "source": [
    "* **Q4 (1 pts)**: We evaluate your classifier on the test set like in `1.2 Q4`. Is it better than Mahalanobis distance? Why?\n",
    "    * **Answer**: ..."
   ]
  },
  {
   "cell_type": "code",
   "execution_count": 215,
   "id": "543bcc55-b63d-41b4-bd02-d120d0d8d4e6",
   "metadata": {},
   "outputs": [
    {
     "name": "stdout",
     "output_type": "stream",
     "text": [
      "Tumor recall: 100.00%\n",
      "Stroma recall: 96.77%\n",
      "OoD recall: 80.65%\n",
      "Average recall: 92.47%\n"
     ]
    }
   ],
   "source": [
    "# Predictions on test set\n",
    "test_y_hat, test_y_ood_scores = knn_classifier.predict(test_x)\n",
    "\n",
    "# Compute metrics\n",
    "test_y_hat_ood, recall_tumor, recall_stroma, recall_ood, avg_recall = compute_metrics(\n",
    "    y=test_y, y_hat=test_y_hat, ood_scores=test_y_ood_scores, threshold=threshold_val)\n",
    "\n",
    "# Display metrics\n",
    "print(f\"Tumor recall: {recall_tumor*100:.2f}%\")\n",
    "print(f\"Stroma recall: {recall_stroma*100:.2f}%\")\n",
    "print(f\"OoD recall: {recall_ood*100:.2f}%\")\n",
    "print(f\"Average recall: {avg_recall*100:.2f}%\")"
   ]
  },
  {
   "cell_type": "markdown",
   "id": "19f0d345",
   "metadata": {},
   "source": [
    "## Part 2 - Lung Adenocarcinoma Classification (19 points)\n",
    "\n",
    "In the previous exercise, we successfully detected TUMOR and STROMA tissues using a minimum of labels. This allows us to compute the Tumor-Stroma Ratio (TSR), a valuable indicator for determining tumor grade and guiding treatment decisions. However, despite saving annotations, the need for hundreds of tumor/stroma annotations remains prohibitively expensive. Additionally, associating the TSR value with the correct tumor grade and treatment necessitates further algorithmic developments.\n",
    "\n",
    "An alternative approach involves annotating entire tumor grades on Whole Slide Images (WSIs) and training a classifier directly. However, a significant challenge arises due to the immense size of WSIs, typically containing millions of pixels, which makes direct preprocessing infeasible for computers. To address this challenge, we partition the WSI into thousands of non-overlapping patches. Consequently, each WSI comprises thousands of patch features. However, classifying a conglomerate of features is inherently challenging, especially considering that each WSI may not necessarily contain the same number of patches.\n",
    "\n",
    "As illustrated in Fig. 2, a highly effective method is to apply an aggregation pooling function, which transforms the pool of features into a single slide feature. Subsequently, we can train a simple classifier to classify the slides. In this section, your objective is to develop a classifier and various pooling methods for classifying WSIs of lung adenocarcinoma patterns.\n",
    "\n",
    "<br />\n",
    "<figure>\n",
    "    <img src=\"../data/data_lab_03/part_02/wsi.png\" width=\"1100\">\n",
    "    <figcaption>Fig2: WSI classification pipeline.</figcaption>\n",
    "</figure>\n",
    "<br />"
   ]
  },
  {
   "cell_type": "markdown",
   "id": "f13bf60f",
   "metadata": {},
   "source": [
    "### 2.1 Dataset (1 pt)\n",
    "\n",
    "Your objective is to classify lung adenocarcinoma patterns, specifically acinar and solid patterns. Acinar adenocarcinoma typically exhibits glandular structures resembling small sacs when viewed under a microscope, as depicted in Fig. 3. These structures may appear irregular and crowded. Conversely, solid adenocarcinoma, as illustrated in Fig. 4, appears as solid sheets or nests of cells with little to no glandular differentiation.\n",
    "\n",
    "You'll be working with a subset of the DHMC dataset, comprising 53 acinar examples and 48 solid examples. To assist you, we provide a training set and a validation set, representing 60% and 40% of the data, respectively. In this dataset, features of the patches composing each Whole Slide Image (WSI) have already been extracted using CTransPath. Your initial task is to prepare the data to be suitable for model training.\n",
    "\n",
    "<br />\n",
    "<figure>\n",
    "    <img src=\"../data/data_lab_03/part_02/acinar.png\" width=\"500\">\n",
    "    <figcaption>Fig3: Example acinar lung adenocarcinoma WSI.</figcaption>\n",
    "</figure>\n",
    "<figure>\n",
    "    <img src=\"../data/data_lab_03/part_02/solid.png\" width=\"300\">\n",
    "    <figcaption>Fig4: Example solid lung adenocarcinoma WSI.</figcaption>\n",
    "</figure>\n",
    "<br />\n",
    "\n",
    "First download the data [here](https://drive.google.com/drive/folders/1W55290DTTj1ZketmSwLXbRQ-FEQrdees?usp=sharing) and put it under `data/data_lab_03/part_02`.\n",
    "Before proceeding, ensure that your workspace conforms to the following structure:\n",
    "\n",
    "```code\n",
    "├── lab_03_iapr.ipynb\n",
    "└── data\n",
    "    └── data_lab_03\n",
    "        └── part_02\n",
    "            ├── dhmc_train.pth\n",
    "            ├── dhmc_val.pth\n",
    "            ├── dhmc_test.pth\n",
    "            ├── acinar.png\n",
    "            ├── solid.png\n",
    "            ├── wsi.png\n",
    "            ├── DHMC_0001.png\n",
    "            └── DHMC_0007.png\n",
    "```"
   ]
  },
  {
   "cell_type": "markdown",
   "id": "571ef915-793e-4496-9119-911b34e1c29e",
   "metadata": {},
   "source": [
    "* **Q1 (1 pt)**: Please complete the `DHMC2Cls` class. The class loads raw data from an external file and stores them in `raw_data`. You are required to implement the `__len__` and `__getitem__` functions. The `__len__` function should return the length M of the dataset, while the `__getitem__` function should return a tuple containing: (1) the patch features, (2) the WSI label, (3) the WSI id, and (4) the patch coordinates. Before proceeding take time to investigate the content of the raw data. It's important to note that in the training mode, you should only return the features and the label."
   ]
  },
  {
   "cell_type": "code",
   "execution_count": 238,
   "id": "266b020b-8df8-48de-a430-2e3affbfe2ce",
   "metadata": {},
   "outputs": [],
   "source": [
    "class DHMC2Cls(Dataset):\n",
    "    \"\"\"DHMC dataset using 2 classes\"\"\"\n",
    "\n",
    "    def __init__(self, features_path : str, train : bool = False) -> None:\n",
    "        \"\"\"\n",
    "        Attributes:\n",
    "            raw_data (list of dict): (M) List of M slides raw data as dictionaries. \n",
    "            train (bool): True if data are the training set. False otherwise\n",
    "            \n",
    "        Args:\n",
    "            features_path (str): The path to the features file\n",
    "            train (bool): Whether it is the training dataset or not\n",
    "        \"\"\"\n",
    "        \n",
    "        super().__init__()\n",
    "        # Load raw data from path\n",
    "        self.raw_data = torch.load(features_path)\n",
    "        \n",
    "        # Set if training or not\n",
    "        self.train = train\n",
    "\n",
    "    def __len__(self) -> int:\n",
    "        \"\"\"Returns the length of the dataset\n",
    "\n",
    "        Returns:\n",
    "            int: The length M of the dataset\n",
    "        \"\"\"\n",
    "\n",
    "        \n",
    "        # ------------------\n",
    "        # Your code here ... \n",
    "        # ------------------\n",
    "        n_data = len(self.raw_data)\n",
    "        \n",
    "        return n_data\n",
    "    \n",
    "    def __getitem__(self, index : int):\n",
    "        \"\"\"Returns the entry at index from the dataset\n",
    "\n",
    "        Args:\n",
    "            index (int): the requested entry index of the dataset\n",
    "\n",
    "        Returns:\n",
    "            features (torch.Tensor): (N, d) Feature tensor of the selected slide with N patches and d feature dimensions\n",
    "            label (int): Ground truth label {0, ..., n_classes}\n",
    "            wsi_id (str): Name of the WSI as \"DHMC_xxx\" where xxx is a unique id of the slide (train == False only)\n",
    "            coordinates (torch.Tensor): (N, 2) xy coordinates of the N patches of the selected slide (train == False only)\n",
    "        \"\"\"\n",
    "\n",
    "        features = self.raw_data[index][\"patch_features\"]\n",
    "        label = self.raw_data[index][\"label\"]\n",
    "        wsi_id = self.raw_data[index][\"wsi_id\"]\n",
    "        coordinates = self.raw_data[index][\"patch_coordinates\"]\n",
    "        \n",
    "        # ------------------\n",
    "        # Your code here ... \n",
    "        # ------------------\n",
    "        \n",
    "        if self.train:\n",
    "            return features, label\n",
    "        else:\n",
    "            return features, label, wsi_id, coordinates"
   ]
  },
  {
   "cell_type": "code",
   "execution_count": 240,
   "id": "1e3baa7e",
   "metadata": {},
   "outputs": [
    {
     "name": "stdout",
     "output_type": "stream",
     "text": [
      "{'wsi_id': 'DHMC_0008', 'patch_features': tensor([[ 0.0588,  0.0054, -0.0092,  ...,  0.1207,  0.1669,  0.0945],\n",
      "        [ 0.0414,  0.0223, -0.0295,  ..., -0.0641, -0.0321, -0.1240],\n",
      "        [ 0.0555,  0.0613, -0.0491,  ..., -0.0678,  0.0189, -0.0798],\n",
      "        ...,\n",
      "        [-0.0014,  0.0525, -0.0823,  ...,  0.0802, -0.0339, -0.1083],\n",
      "        [ 0.0671, -0.1136, -0.0057,  ...,  0.1395, -0.0742, -0.0278],\n",
      "        [ 0.0851,  0.0782, -0.0817,  ..., -0.1035, -0.0005, -0.1264]]), 'label': 1, 'patch_coordinates': array([[21697, 13440],\n",
      "       [ 4545, 23168],\n",
      "       [16577, 21888],\n",
      "       ...,\n",
      "       [21953, 24960],\n",
      "       [10689, 15488],\n",
      "       [12225,  9856]], dtype=int64)}\n",
      "{'wsi_id': 'DHMC_0003', 'patch_features': tensor([[ 5.3823e-02,  1.6305e-02,  7.8189e-03,  ...,  5.2949e-02,\n",
      "          3.0275e-02,  2.4244e-02],\n",
      "        [ 8.8330e-02, -1.4732e-01, -4.0811e-02,  ..., -6.4252e-02,\n",
      "         -1.9563e-02,  8.6487e-02],\n",
      "        [ 5.2954e-02, -5.8444e-02,  4.2123e-02,  ...,  1.2833e-01,\n",
      "          1.5000e-02,  1.8060e-02],\n",
      "        ...,\n",
      "        [ 9.0305e-02, -2.9252e-02,  1.2649e-02,  ...,  9.0413e-02,\n",
      "          4.8546e-02,  4.1655e-02],\n",
      "        [ 2.1708e-02, -5.8291e-02, -3.8644e-05,  ...,  8.2059e-02,\n",
      "          2.9914e-02,  1.9823e-01],\n",
      "        [ 7.2949e-02, -9.5525e-02, -1.7981e-02,  ...,  1.0342e-01,\n",
      "          9.2876e-02,  1.4385e-01]]), 'label': 1, 'patch_coordinates': array([[16448, 15552],\n",
      "       [ 5952, 17088],\n",
      "       [32320,  9664],\n",
      "       ...,\n",
      "       [31040, 14272],\n",
      "       [ 9792, 10688],\n",
      "       [26432, 12736]], dtype=int64)}\n"
     ]
    }
   ],
   "source": [
    "# Run the block to build the train and validation datasets\n",
    "dataroot = os.path.join(\"..\", \"data\", \"data_lab_03\", \"part_02\")\n",
    "val_dataset = DHMC2Cls(os.path.join(dataroot, \"dhmc_val.pth\"))\n",
    "train_dataset = DHMC2Cls(os.path.join(dataroot, \"dhmc_train.pth\"), train=True)"
   ]
  },
  {
   "cell_type": "markdown",
   "id": "522af831-1900-4d51-9b3e-8c2970c133e0",
   "metadata": {},
   "source": [
    "In the cell below we test your training and validation datasets to check for inconsistencies. Your implementation should pass all tests. "
   ]
  },
  {
   "cell_type": "code",
   "execution_count": 241,
   "id": "615f1eb2-3bec-464f-b47f-ac95a55a9e97",
   "metadata": {},
   "outputs": [
    {
     "name": "stdout",
     "output_type": "stream",
     "text": [
      "Satus of your implementation: Successful :)\n"
     ]
    }
   ],
   "source": [
    "def sanity_check_dataset(train_dataset: Dataset, val_dataset: Dataset):\n",
    "    \"\"\" Automatic check of implementation, DO NOT Modify\n",
    "\n",
    "    Args:\n",
    "        train_dataset (Dataset): Training dataset\n",
    "        val_dataset (Dataset): Validation dataset\n",
    "\n",
    "    Return:\n",
    "        status (str): Return \"Successful\" of all tests passed, \"Failed\" otherwise\n",
    "    \"\"\"\n",
    "    try:\n",
    "        # Perform sanity check of the training dataset creation\n",
    "        assert len(train_dataset) == 59\n",
    "        features, label = train_dataset[1]\n",
    "        assert label == 1\n",
    "        assert np.isclose(features[0, 0], 0.0538, rtol=1e-3)\n",
    "        \n",
    "        # Perform sanity check of the validation dataset creation\n",
    "        assert len(val_dataset) == 40\n",
    "        features, label, wsi_id, coord = val_dataset[1]\n",
    "        assert label == 1\n",
    "        assert np.isclose(features[0, 0], 0.0588, rtol=1e-3)\n",
    "        assert wsi_id == 'DHMC_0008'\n",
    "        assert coord[0, 0] == 21697\n",
    "        \n",
    "    except Exception:\n",
    "        return \"Failed :(\"\n",
    "\n",
    "    return \"Successful :)\"\n",
    "\n",
    "status = sanity_check_dataset(train_dataset, val_dataset)\n",
    "print(\"Satus of your implementation: {}\".format(status))"
   ]
  },
  {
   "cell_type": "code",
   "execution_count": 242,
   "id": "d5e2dcb1-b631-419f-802b-9503193b05eb",
   "metadata": {},
   "outputs": [],
   "source": [
    "# Create loaders\n",
    "train_loader = DataLoader(train_dataset, batch_size=1, shuffle=True, num_workers=num_workers)\n",
    "val_loader = DataLoader(val_dataset, batch_size=1, shuffle=False, num_workers=num_workers)"
   ]
  },
  {
   "cell_type": "markdown",
   "id": "8fbcbe32",
   "metadata": {},
   "source": [
    "### 2.2 Average Pooling (1 pt)\n",
    "\n",
    "You will start with the simplest pooling method, i.e. average pooling. It simply consists of averaging the WSI patch features to form a single one representative of the WSI.\n",
    "\n",
    "* **Q1 (1 pt)**: Complete the `forward` function in `AveragePooling`. Remember, it takes a set of WSI features with shape `(N x d)`, and should return a single WSI feature of shape `(1 x d)`."
   ]
  },
  {
   "cell_type": "code",
   "execution_count": 245,
   "id": "5c30d28c-d569-4727-8d05-56a311e5172a",
   "metadata": {},
   "outputs": [],
   "source": [
    "class AveragePooling(nn.Module):\n",
    "\n",
    "    def __init__(self) -> None:\n",
    "        super().__init__()\n",
    "\n",
    "    def forward(self, features : torch.Tensor):\n",
    "        \"\"\" Perform mean along the first dimension of the tensor\n",
    "\n",
    "        Args:\n",
    "            features (torch.Tensor): (N, D) Feature to perform average pooling on\n",
    "        Return:\n",
    "            mean (torch.Tensor): (1, D) Features average over all patches\n",
    "        \"\"\"\n",
    "\n",
    "        # ------------------\n",
    "        # Your code here ... \n",
    "        # ------------------\n",
    "        mean = torch.mean(features, axis = 0)\n",
    "        \n",
    "        \n",
    "        return mean"
   ]
  },
  {
   "cell_type": "code",
   "execution_count": 246,
   "id": "5fac6879-a1f7-41e6-b3ed-f5aee3a3e834",
   "metadata": {},
   "outputs": [
    {
     "data": {
      "text/plain": [
       "'Successful :)'"
      ]
     },
     "execution_count": 246,
     "metadata": {},
     "output_type": "execute_result"
    }
   ],
   "source": [
    "def sanity_check_avg(avg_func: Callable):\n",
    "    \"\"\" Automatic check of implementation, DO NOT Modify\n",
    "\n",
    "    Args:\n",
    "        avg_func (Dataset): Average pooling function\n",
    "\n",
    "    Return:\n",
    "        status (str): Return \"Successful\" of all tests passed, \"Failed\" otherwise\n",
    "    \"\"\"\n",
    "    try:\n",
    "        # Sanity check for average function\n",
    "        x_in = torch.Tensor([[0, 3], [4, 6], [2, 0]])\n",
    "        x_out = torch.Tensor([[2, 3]])\n",
    "        assert np.all(np.isclose(avg_func().forward(features=x_in), x_out, rtol=1e-3))\n",
    "        \n",
    "    except Exception:\n",
    "        return \"Failed :(\"\n",
    "\n",
    "    return \"Successful :)\"\n",
    "\n",
    "sanity_check_avg(AveragePooling)"
   ]
  },
  {
   "cell_type": "markdown",
   "id": "96da1078",
   "metadata": {},
   "source": [
    "### 2.3 Classifier (7 pts)\n",
    "\n",
    "Now that you have coded your first aggregation method, let's build the linear classifier.\n",
    "\n",
    "* **Q1 (3 pts)**: \n",
    "    * Complete the `Classifier` class below. You should fill `__init__` which assigns the attributes. Attributes are :\n",
    "        * `proj` is a nonlinear projection layer that adapts the features for the task. It is simply a linear layer that projects features of dimension `d` to features of lower dimension `H`. Then it is followed by a ReLU.\n",
    "        * `pool`, the pooling function.\n",
    "        * `fc`, the final linear classifier layer. \n",
    "    * Complete `forward` which given a pool of features of shape `(1 x N x d)` outputs the class prediction logits of shape `(1 x 2)`."
   ]
  },
  {
   "cell_type": "code",
   "execution_count": null,
   "id": "137088df-a6b6-4066-9d15-abf7a1e95d36",
   "metadata": {},
   "outputs": [],
   "source": [
    "class LinearClassifier(nn.Module):\n",
    "\n",
    "    def __init__(self, in_dim : int, H : int, n_classes : int, pooling_fn : nn.Module) -> None:\n",
    "        \"\"\"Constructs the linear classifier\n",
    "\n",
    "        Attributes:\n",
    "            proj (Callable): Projection of layer (N, d) -> (N, H)\n",
    "            pool (Callable): Pooling layer (N, H) -> (1, H)\n",
    "            fc (Callable): Classification layer (1, H) -> (1, n_classes)\n",
    "            \n",
    "        Args:\n",
    "            in_dim (int): The dimension of input features\n",
    "            H (int): Target dimension for the projection layer\n",
    "            n_classes (int): The number of classes for the task\n",
    "            pooling_fn (nn.Module): The pooling function to aggregate the features\n",
    "        \"\"\"\n",
    "        super().__init__()\n",
    "\n",
    "        proj_layer = None\n",
    "        pool_layer = None\n",
    "        fc_layer = None\n",
    "        \n",
    "        # ------------------\n",
    "        # Your code here ... \n",
    "        # ------------------\n",
    "\n",
    "        self.proj = proj_layer\n",
    "        self.pool = pool_layer\n",
    "        self.fc = fc_layer\n",
    "        \n",
    "\n",
    "    def forward(self, x):\n",
    "        \"\"\"Forward path\n",
    "\n",
    "        Args:\n",
    "            x (torch.Tensor): (1, N, d) Input feature for a given slide with N patches\n",
    "        Return:\n",
    "            logits (torch.Tensor): (1, n_classes) Output logits for classification\n",
    "        \"\"\"\n",
    "\n",
    "        logits = None\n",
    "        \n",
    "        # ------------------\n",
    "        # Your code here ... \n",
    "        # ------------------\n",
    "\n",
    "        return logits"
   ]
  },
  {
   "cell_type": "code",
   "execution_count": null,
   "id": "00e19f40-3230-46b9-9819-dd248ecf7b59",
   "metadata": {},
   "outputs": [],
   "source": [
    "def sanity_check_cls(cls_class: Callable):\n",
    "    \"\"\" Automatic check of implementation, DO NOT Modify\n",
    "\n",
    "    Args:\n",
    "        avg_func (nn.Module): Linear classifier\n",
    "\n",
    "    Return:\n",
    "        status (str): Return \"Successful\" of all tests passed, \"Failed\" otherwise\n",
    "    \"\"\"\n",
    "    try:\n",
    "        # Test of implementation\n",
    "        d, H, n_classes = 768, 512, 2\n",
    "        cls = cls_class(in_dim=d, H=H, n_classes=n_classes, pooling_fn=AveragePooling())\n",
    "        assert cls(torch.zeros((1, 1000, d))).shape == torch.Size([1, n_classes])\n",
    "        \n",
    "    except Exception:\n",
    "        return \"Failed :(\"\n",
    "\n",
    "    return \"Successful :)\"\n",
    "\n",
    "sanity_check_cls(LinearClassifier)"
   ]
  },
  {
   "cell_type": "markdown",
   "id": "2a1c89ff",
   "metadata": {},
   "source": [
    "The classifier is ready to train. It remains to write the code to optimize your model.\n",
    "\n",
    "* **Q2 (2 pts)**: Please complete the `train` function below. This function should take `train_loader`, `val_loader`, `n_epochs`, and an `optimizer` as inputs. It is responsible for training the `model` and returning the best model checkpoint, best F1 score, and the epoch at which the best F1 score was achieved on the validation set.\n",
    "\n",
    "**Notes**: \n",
    "* Refer to this [tutorial](https://pytorch.org/tutorials/beginner/blitz/cifar10_tutorial.html) for guidance on training a classifier.\n",
    "* To obtain the model checkpoint, simply call `model.state_dict()`.\n",
    "* We provide you the `test` function that computes the F1 score on a given test dataset. **You should not modify it !!!**"
   ]
  },
  {
   "cell_type": "code",
   "execution_count": null,
   "id": "d326ba0a",
   "metadata": {},
   "outputs": [],
   "source": [
    "@torch.no_grad()\n",
    "def test(model : nn.Module, test_loader : DataLoader):\n",
    "    \"\"\"The test function, computes the F1 score of the current model on the test_loader\n",
    "\n",
    "    Args:\n",
    "        model (nn.Module): The model to evaluate\n",
    "        test_loader (DataLoader): The test data loader to iterate on the dataset to test\n",
    "\n",
    "    Returns:\n",
    "        f1 (float): The F1 score on the given dataset\n",
    "        loss (float): Averaged loss on the given dataset\n",
    "    \"\"\"\n",
    "    model.eval()\n",
    "\n",
    "    preds_dict = {\"preds\" : torch.Tensor(), \"labels\" : torch.Tensor(), 'losses': torch.Tensor()}\n",
    "    for features, labels, _, _ in test_loader:\n",
    "        # Forward and loss\n",
    "        preds = model(features)\n",
    "        loss = F.cross_entropy(preds, labels)\n",
    "        \n",
    "        # Store values\n",
    "        preds_dict[\"preds\"] = torch.cat([preds_dict[\"preds\"], preds.argmax(1)])\n",
    "        preds_dict[\"labels\"] = torch.cat([preds_dict[\"labels\"], labels])\n",
    "        preds_dict[\"losses\"] = torch.cat([preds_dict[\"losses\"], loss[None]])\n",
    "\n",
    "    # Compute metric and loss\n",
    "    f1 = f1_score(preds_dict[\"labels\"], preds_dict[\"preds\"], average=\"macro\")\n",
    "    loss = preds_dict[\"losses\"].mean()\n",
    "\n",
    "    return f1, loss"
   ]
  },
  {
   "cell_type": "code",
   "execution_count": null,
   "id": "8757eac4-d786-4b0f-a7cf-7aaf04b88293",
   "metadata": {},
   "outputs": [],
   "source": [
    "def train(model : nn.Module, train_loader : DataLoader, val_loader : DataLoader, n_epochs : int, optimizer : torch.optim.Optimizer):\n",
    "    \"\"\"Trains the neural network self.model for n_epochs using a given optimizer on the training dataset.\n",
    "    Outputs the best model in terms of F1 score on the validation dataset.\n",
    "\n",
    "    Args:\n",
    "        model (nn.Module): The model to train\n",
    "        train_loader (DataLoader): The training dataloader to iterate on the training dataset\n",
    "        val_loader (DataLoader): The validation dataloader to iterate on the validation dataset\n",
    "        n_epochs (int): The number of epochs, i.e. the number of time the model should see each training example\n",
    "        optimizer (torch.optim.Optimizer): The optimizer function to update the model parameters\n",
    "\n",
    "    Returns:\n",
    "        best_model (nn.Module): Best model state dictionary \n",
    "        best_f1 (float): Best F1-score on the validation set\n",
    "        best_epoch (int): Best epoch on validation set\n",
    "        val_f1s (list of floats): (n_epochs, ) F1-scores for all epochs\n",
    "        val_losses (list of floats): (n_epochs, ) Losses for all validation epochs\n",
    "        train_losses(list of floats): (n_epochs, ) Losses for all training epochs\n",
    "    \"\"\"\n",
    "\n",
    "    # Initialize variable to return\n",
    "    best_model = model.state_dict()\n",
    "    best_epoch = 0\n",
    "    best_f1 = 0\n",
    "    train_losses = []\n",
    "    val_losses = []\n",
    "    val_f1s = []\n",
    "\n",
    "    # ------------------\n",
    "    # Your code here ... \n",
    "    # ------------------\n",
    "    \n",
    "    return best_model, best_f1, best_epoch, val_f1s, val_losses, train_losses"
   ]
  },
  {
   "cell_type": "markdown",
   "id": "d2c6225d-e7ff-4680-a92d-8b85ec244e35",
   "metadata": {},
   "source": [
    "* **Q3 (1 pt)**: Train a linear classifier using `AveragePooling` for `30` epochs, employing the `Adam` optimizer with a learning rate of `1e-3`. No need to search for optimal hyperparameters. Refer to the PyTorch documentation for guidance on constructing your optimizer. Use `H=512`. Don't worry, the training might take ~5-10 minutes. Your results should be above (87%)."
   ]
  },
  {
   "cell_type": "code",
   "execution_count": null,
   "id": "34334c62",
   "metadata": {},
   "outputs": [],
   "source": [
    "# Set seed for reproducibility\n",
    "torch.manual_seed(0)\n",
    "\n",
    "# Display loss progression and f1 score\n",
    "epochs = 30\n",
    "d, H, n_classes = 768, 512, 2\n",
    "\n",
    "# Create Linear classifier and optimizer\n",
    "model = LinearClassifier(in_dim=d, H=H, n_classes=n_classes, pooling_fn=AveragePooling())\n",
    "optimizer = torch.optim.Adam(model.parameters(), lr=1e-3)\n",
    "\n",
    "# Run training and display results\n",
    "_, best_f1, best_epoch, val_accs, val_loss, train_loss = train(model, train_loader, val_loader, n_epochs=epochs, optimizer=optimizer)\n",
    "print(f\"Best model at epoch {best_epoch} -> {100*best_f1:.2f}% F1 score\")"
   ]
  },
  {
   "cell_type": "code",
   "execution_count": null,
   "id": "a6d638e2-8c0a-4787-9dc8-550dc68a4fe4",
   "metadata": {},
   "outputs": [],
   "source": [
    "def plot_training(best_epoch: int, val_accs: list, val_loss: list, train_loss: list):\n",
    "    \"\"\"Plot training results of linear classifier\n",
    "    \n",
    "    Args:\n",
    "        best_epoch (int): Best epoch\n",
    "        val_accs (List): (E,) list of validation measures for each epoch\n",
    "        val_loss (List): (E,) List of validation losses for each epoch\n",
    "        train_loss (List): (E,) List of training losses for each epoch\n",
    "    \"\"\"\n",
    "\n",
    "    # Create plot\n",
    "    _, axes = plt.subplots(1, 2, figsize=(12, 4))\n",
    "    es = np.arange(1, len(val_accs)+1)\n",
    "    # Plot F1 score\n",
    "    axes[0].plot(es, val_accs, label=\"Val\")\n",
    "    axes[0].vlines(best_epoch, ymin=np.min(val_accs), ymax=np.max(val_accs), color='k', ls='--', label=\"Best epoch\")\n",
    "    axes[0].set_xlabel(\"Training steps\")\n",
    "    axes[0].set_ylabel(\"F1-score\")\n",
    "    axes[0].set_title(\"F1-score\")\n",
    "    axes[0].legend()\n",
    "\n",
    "    # Plot losses\n",
    "    axes[1].plot(es, val_loss, label=\"Val\")\n",
    "    axes[1].plot(es, train_loss, label=\"Train\")\n",
    "    axes[1].vlines(best_epoch, ymin=np.min(train_loss), ymax=np.max(val_loss), color='k', ls='--', label=\"Best epoch\")\n",
    "    axes[1].set_xlabel(\"Training steps\")\n",
    "    axes[1].set_ylabel(\"Loss\")\n",
    "    axes[1].set_title(\"Losses\")\n",
    "    axes[1].legend()\n",
    "    \n",
    "    plt.tight_layout()\n",
    "\n",
    "# Plot results\n",
    "plot_training(best_epoch=best_epoch, val_accs=val_accs, val_loss=val_loss, train_loss=train_loss)"
   ]
  },
  {
   "cell_type": "markdown",
   "id": "bad8d802-6d5a-4082-8bc0-6d33fdda432c",
   "metadata": {},
   "source": [
    "* **Q4 (1 pt)**: Are you satisfied with the results? What is the primary disadvantage of employing average pooling? Does the model overfit the data? (justify)\n",
    "    * **Answer**: ..."
   ]
  },
  {
   "cell_type": "markdown",
   "id": "22b9919f",
   "metadata": {},
   "source": [
    "### 2.4 Attention Pooling (10 pts)\n",
    "\n",
    "Now you will build a more advanced pooling method, called attention pooling. The motivation for this method should result from your analysis in `2.3 Q4`. So we will not share much information with you on this one. Instead, we refer you to the related paper [here](https://arxiv.org/pdf/1802.04712.pdf).\n",
    "\n",
    "* **Q1 (4 pts)**: Complete `Attn_Net_Gated` which implements the gated attention mechanism described in the paper. Note `L`, and `M` are the dimension of the projection weights. You will find similar notations in the paper."
   ]
  },
  {
   "cell_type": "code",
   "execution_count": null,
   "id": "4ae9c7be-77d0-4dbe-9e16-fd4850004299",
   "metadata": {},
   "outputs": [],
   "source": [
    "class Attn_Net_Gated(nn.Module):\n",
    "    def __init__(self, L : int, M : int):\n",
    "        \"\"\"\n",
    "        Attention Network with Sigmoid Gating (3 fc layers)\n",
    "        Args:\n",
    "            L: input feature dimension\n",
    "            M: hidden layer dimension\n",
    "        \"\"\"\n",
    "        super(Attn_Net_Gated, self).__init__()\n",
    "\n",
    "        # ------------------\n",
    "        # Your code here ... \n",
    "        # ------------------\n",
    "\n",
    "    def forward(self, x):\n",
    "        \"\"\"Forward path of the gated attention network\n",
    "\n",
    "        Args:\n",
    "            xin: (N, L) List of N patches and L features\n",
    "        Return:\n",
    "            A: (N, 1) Attention value for each patch\n",
    "        \"\"\"\n",
    "        # ------------------\n",
    "        # Your code here ... \n",
    "        # ------------------\n",
    "\n",
    "        return A"
   ]
  },
  {
   "cell_type": "code",
   "execution_count": null,
   "id": "c9a35f4d-4371-4dc3-9b24-a3def7176571",
   "metadata": {},
   "outputs": [],
   "source": [
    "def sanity_gated(func_gated: Callable):\n",
    "    \"\"\" Automatic check of implementation, DO NOT Modify\n",
    "\n",
    "    Args:\n",
    "        avg_func (nn.Module): Attention gated\n",
    "\n",
    "    Return:\n",
    "        status (str): Return \"Successful\" of all tests passed, \"Failed\" otherwise\n",
    "    \"\"\"\n",
    "    try:\n",
    "        # Test of implementation\n",
    "        L, M = 512, 256\n",
    "        layer = func_gated(L, M)\n",
    "        # Check output size\n",
    "        xin = torch.zeros(1000, L)\n",
    "        assert layer(xin).size() == torch.Size([1000, 1])\n",
    "    except Exception:\n",
    "        return \"Failed :(\"\n",
    "\n",
    "    return \"Successful :)\"\n",
    "\n",
    "sanity_gated(Attn_Net_Gated)"
   ]
  },
  {
   "cell_type": "markdown",
   "id": "e2a5140c",
   "metadata": {},
   "source": [
    "* **Q2 (3 pts)**: Complete `AttentionPooling`, which performs attention pooling with the help of the gated attention mechanism. In `forward`, you should only return the attention if `attention_only=True`."
   ]
  },
  {
   "cell_type": "code",
   "execution_count": null,
   "id": "1991c782-1385-45c3-8256-f8e678bb30a7",
   "metadata": {},
   "outputs": [],
   "source": [
    "class AttentionPooling(nn.Module):\n",
    "    def __init__(self, L : int, M : int):\n",
    "        super().__init__()\n",
    "        # Intatiate the gated layer\n",
    "        self.attention_net = Attn_Net_Gated(L, M)\n",
    "\n",
    "    def forward(self, x, attention_only : bool = False):\n",
    "        \"\"\"Forward pass\n",
    "\n",
    "        Args:\n",
    "            x (torch.tensor): (N, L) Input feature over N patches and L features\n",
    "            attention_only (bool): Say whether to return the attention or not\n",
    "        Returns:\n",
    "            Y (torch.Tensor): (1, N) Output, if attention_only==False\n",
    "            A (torch.Tensor): (1, N) Attention values, if attention_only==True\n",
    "        \"\"\"\n",
    "\n",
    "        A = None\n",
    "        Y = None\n",
    "        \n",
    "        # ------------------\n",
    "        # Your code here ... \n",
    "        # ------------------\n",
    "\n",
    "        # Check if need to return attention\n",
    "        if attention_only:\n",
    "            return A\n",
    "        else:\n",
    "            return Y"
   ]
  },
  {
   "cell_type": "markdown",
   "id": "fb0784cd",
   "metadata": {},
   "source": [
    "* **Q3 (1 pt)**: Train your linear classifier using `AttentionPooling` with `M=256`. You will train your model for `30` epochs, employing the `Adam` optimizer with a learning rate of `1e-4`. No need to search for optimal hyperparameters. Use `H=512`. Don't worry, the training should take ~5-10 minutes. Your results should be above (90%)."
   ]
  },
  {
   "cell_type": "code",
   "execution_count": null,
   "id": "cf008582",
   "metadata": {},
   "outputs": [],
   "source": [
    "# Set seed for reproducibility\n",
    "torch.manual_seed(0)\n",
    "\n",
    "# Display loss progression and f1 score\n",
    "epochs = 30\n",
    "d, H, M, n_classes = 768, 512, 256, 2\n",
    "\n",
    "# Create Linear classifier and optimizer\n",
    "model = LinearClassifier(in_dim=d, H=H, n_classes=n_classes, pooling_fn=AttentionPooling(H, M))\n",
    "optimizer = torch.optim.Adam(model.parameters(), lr=1e-4)\n",
    "\n",
    "# Run training and display results\n",
    "best_model, best_f1, best_epoch, val_accs, val_loss, train_loss = train(model, train_loader, val_loader, n_epochs=epochs, optimizer=optimizer)\n",
    "print(f\"Best model at epoch {best_epoch} -> {100*best_f1:.2f}% F1 score\")"
   ]
  },
  {
   "cell_type": "code",
   "execution_count": null,
   "id": "646a58df-1907-4c2b-9d3c-96e51e31f889",
   "metadata": {},
   "outputs": [],
   "source": [
    "# Plot results\n",
    "plot_training(best_epoch=best_epoch, val_accs=val_accs, val_loss=val_loss, train_loss=train_loss)"
   ]
  },
  {
   "cell_type": "markdown",
   "id": "dc0cb8e7",
   "metadata": {},
   "source": [
    "We have kept one example per class for testing and visualization. We have `DHMC_0001.jpg` presenting solid adenocarcinoma patterns and `DHMC_0007.jpg` with acinar adenocarcinoma. Those examples have never been seen in training and validation.\n",
    "\n",
    "* **Q4 (1 pt)**: Test your best attention model on the test dataset below. Use `load_state_dict()` to load the model weights."
   ]
  },
  {
   "cell_type": "code",
   "execution_count": null,
   "id": "ade2a0fa",
   "metadata": {},
   "outputs": [],
   "source": [
    "# Load test dataset\n",
    "test_dataset = DHMC2Cls(os.path.join(dataroot, \"dhmc_test.pth\"))\n",
    "test_loader = DataLoader(test_dataset, batch_size=1, shuffle=False, num_workers=num_workers)\n",
    "\n",
    "# Create a model from the best model state\n",
    "model = LinearClassifier(in_dim=d, H=H, n_classes=n_classes, pooling_fn=AttentionPooling(H, M))\n",
    "model.load_state_dict(best_model)\n",
    "test_f1, _ = test(model, test_loader)\n",
    "\n",
    "print(f\"Test F1 score: {100*test_f1:.2f}%\")"
   ]
  },
  {
   "cell_type": "markdown",
   "id": "3151bbe2",
   "metadata": {},
   "source": [
    "As stated in the paper, a benefit of incorporating an attention layer is the enhanced interpretability of the model's decision-making process. This feature is particularly crucial for ensuring the safe deployment of deep learning models, especially in sensitive domains such as the medical field. With an attention layer, it becomes possible to discern the most critical patches that the model considered for a particular decision. To visualize this, please execute the three cells below to observe the attention maps on the test examples. **Don't forget to answer the question in the end !!!**"
   ]
  },
  {
   "cell_type": "code",
   "execution_count": null,
   "id": "67398f49",
   "metadata": {},
   "outputs": [],
   "source": [
    "def build_prediction_map(\n",
    "        coords_x: np.ndarray,\n",
    "        coords_y:  np.ndarray,\n",
    "        feature:  np.ndarray,\n",
    "        wsi_dim: Optional[tuple] = None,\n",
    "        default: Optional[float] = -1.,\n",
    "):\n",
    "    \"\"\"\n",
    "    Build a prediction map based on x and y coordinates and feature vectors. Default values if feature is nonexisting\n",
    "    for a certain location is -1.\n",
    "\n",
    "    Parameters\n",
    "    ----------\n",
    "    coords_x: np.ndarray of shape (N,)\n",
    "        Coordinates of x points.\n",
    "    coords_y: np.ndarray of shape (N,)\n",
    "        Coordinates of y points.\n",
    "    feature: np.ndarray of shape (N, M)\n",
    "        Feature vector.\n",
    "    wsi_dim: tuple of int, optional\n",
    "        Size of the original whole slide.\n",
    "    default: float, optional\n",
    "        Value of the pixel when the feature is not defined.\n",
    "\n",
    "    Returns\n",
    "    -------\n",
    "    map: np.ndarray (W, H, M)\n",
    "        Feature map. The unaffected points use the default value -1.\n",
    "    map_x, map_y: np.ndarray (W, H), np.ndarray (W, H)\n",
    "        Corresponding and y coordinates of the feature map.\n",
    "    \"\"\"\n",
    "    # Compute offset of coordinates in pixel (patch intervals)\n",
    "    interval_x = np.min(np.unique(coords_x)[1:] - np.unique(coords_x)[:-1])\n",
    "    interval_y = np.min(np.unique(coords_y)[1:] - np.unique(coords_y)[:-1])\n",
    "\n",
    "    # Define new coordinates\n",
    "    offset_x = np.min(coords_x) % interval_x\n",
    "    offset_y = np.min(coords_y) % interval_y\n",
    "        \n",
    "    coords_x_ = ((coords_x - offset_x) / interval_x).astype(int)\n",
    "    coords_y_ = ((coords_y - offset_y) / interval_y).astype(int)\n",
    "\n",
    "    # Define size of the feature map\n",
    "    map = default * np.ones((int(wsi_dim[1] / interval_y), int(wsi_dim[0] / interval_x), feature.shape[1]))\n",
    "    map[coords_y_, coords_x_] = feature\n",
    "    \n",
    "    return map"
   ]
  },
  {
   "cell_type": "code",
   "execution_count": null,
   "id": "dd025b2b",
   "metadata": {},
   "outputs": [],
   "source": [
    "@torch.no_grad()\n",
    "def plot_attention(model, test_loader):\n",
    "    \"\"\" Plot attention on top of slide images\n",
    "\n",
    "    Args:\n",
    "        model (nn.Module): Model \n",
    "        test_loader (Dataloader): Data loader for the test set\n",
    "    \"\"\"\n",
    "    \n",
    "    # Define new plot\n",
    "    fig, ax = plt.subplots(2, 2, figsize=(16, 10), height_ratios=[3, 2], width_ratios=[1, 1.25])\n",
    "\n",
    "    # iterate over slides\n",
    "    for i, (features, _, wsi_id, coordinates) in enumerate(test_loader):\n",
    "\n",
    "        # Get data and paths\n",
    "        wsi_id = wsi_id[0]\n",
    "        slide_path = os.path.join(dataroot, f\"{wsi_id}.jpg\")\n",
    "        # Forward path\n",
    "        attention = model.pool(model.proj(features.squeeze()), attention_only=True).squeeze()\n",
    "\n",
    "        # Get WSI dim (Hardcoded)\n",
    "        if wsi_id == \"DHMC_0001\":\n",
    "            label = \"Solid\"\n",
    "            wsi_dim= (39839, 30468)\n",
    "        elif wsi_id == \"DHMC_0007\":\n",
    "            label = \"Acinar\"\n",
    "            wsi_dim = (47808, 22631)\n",
    "        else:\n",
    "            raise NotImplementedError(\"There is a problem !\")\n",
    "\n",
    "        # Plot results\n",
    "        slide_im = np.array(Image.open(slide_path))\n",
    "        ax[i][0].imshow(slide_im)\n",
    "        ax[i][0].set_title(label)\n",
    "        ax[i][0].axis('off')\n",
    "        \n",
    "        # Show prediction overlay\n",
    "        prob_map = build_prediction_map(\n",
    "                coords_x=coordinates[0,:, 0].numpy(),\n",
    "                coords_y=coordinates[0,:, 1].numpy(),\n",
    "                feature=attention[:, None],\n",
    "                wsi_dim=wsi_dim,\n",
    "                default=0,\n",
    "        )[:, :, 0]\n",
    "\n",
    "        # Rescale to ouput map size\n",
    "        prob_map = F.interpolate(torch.Tensor(prob_map)[None, None], slide_im.shape[:2], mode='bilinear', align_corners=False)[0, 0]\n",
    "\n",
    "        # Plot prediction map\n",
    "        ax[i][1].imshow(slide_im)\n",
    "        pcm = ax[i][1].imshow(prob_map, cmap=matplotlib.colormaps['hot'], vmax=torch.quantile(attention, q=0.99), alpha=0.5)\n",
    "        ax[i][1].axis('off')\n",
    "        # Add colorbar\n",
    "        fig.colorbar(pcm, ax=ax[i][1])\n",
    "        plt.tight_layout()"
   ]
  },
  {
   "cell_type": "code",
   "execution_count": null,
   "id": "16851826",
   "metadata": {},
   "outputs": [],
   "source": [
    "plot_attention(model, test_loader)"
   ]
  },
  {
   "cell_type": "markdown",
   "id": "abdfe680",
   "metadata": {},
   "source": [
    "* **Q5 (1pt)**: From the visualization above, what can you interpret?\n",
    "    * **Answer**: ..."
   ]
  }
 ],
 "metadata": {
  "kernelspec": {
   "display_name": "Python 3 (ipykernel)",
   "language": "python",
   "name": "python3"
  },
  "language_info": {
   "codemirror_mode": {
    "name": "ipython",
    "version": 3
   },
   "file_extension": ".py",
   "mimetype": "text/x-python",
   "name": "python",
   "nbconvert_exporter": "python",
   "pygments_lexer": "ipython3",
   "version": "3.9.18"
  }
 },
 "nbformat": 4,
 "nbformat_minor": 5
}
